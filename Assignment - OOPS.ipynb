{
 "cells": [
  {
   "cell_type": "markdown",
   "id": "eef99b4a-3a38-4c18-af2e-681c15c75542",
   "metadata": {},
   "source": [
    "# Python OOPs Questions"
   ]
  },
  {
   "cell_type": "markdown",
   "id": "c2515fff-7152-41ba-b2ca-a3a1aad31c3e",
   "metadata": {},
   "source": [
    "1. What is Object-Oriented Programming (OOP)?\n",
    "\n",
    "   * Object Oreinted Programming is a programming based on object.\n",
    "   * It is used to organize and structure code in a way that is used in real-time projects.\n",
    "   * In OOP, the main building blocks are classes and objects.\n",
    "       * Class : A blueprint or  template to create an object.\n",
    "       * object : A real instance of a class. "
   ]
  },
  {
   "cell_type": "markdown",
   "id": "1e9eefa3-e606-4dab-8cb3-2f20df0f8122",
   "metadata": {},
   "source": [
    "2. What is a class in OOP?\n",
    "   \n",
    "   * 'Class' is a Python keyword used to define a class which takes method under it.\n",
    "   * Classes are blueprints for creating an object.\n",
    "   * syntax :\n",
    "     \n",
    "             class name:    #class , is a keyword ,name, here is name for class\n",
    "\n",
    "                  method/print"
   ]
  },
  {
   "cell_type": "markdown",
   "id": "cc0c9b6d-4770-433b-8ad9-ba82f68763bd",
   "metadata": {},
   "source": [
    "3. What is an object in OOP?\n",
    "\n",
    "   * Object is a variable used to store class as the class is not exceuted as it is by calling it, it has to be stored in variable .\n",
    "   * To call the class, we have to use object ,i.e., variable created for particular class."
   ]
  },
  {
   "cell_type": "markdown",
   "id": "51622759-cb69-41a3-9fdd-e4af0ea1fb70",
   "metadata": {},
   "source": [
    "4. What is the difference between abstraction and encapsulation?\n",
    "\n",
    "   #### Abstraction :\n",
    "   * Abstraction is hiding unneeded details and only exposing the required.\n",
    "   * class abstract contains methods that are jusst declared and not implemented in abstract class itself, subclass are responsible for implementing these abstract.\n",
    "   * Abstraction can be achieved using abstract class.\n",
    "   * Abstract class is not present we have to import the class by import abc.\n",
    "   * @ decorator is used to define the class ,i.e, @abc.abstractmethod\n",
    "\n",
    "   #### Encapsulation :\n",
    "   * Encapsulation is used to implement and declare the data accordingly.\n",
    "   * Encapsulation means bundling of data methods of a class.\n",
    "   * There are 3 ways you can implement and display the data:\n",
    "     \n",
    "     1). Public - This data can be accessed by anyone, can be changable by anyone outside.\n",
    "     \n",
    "     2). Private -\n",
    "     * This is a private data, which cannot be accessed by anyone neither it is declared to anyone. It is safe.\n",
    "     \n",
    "     * This can only be accessible within its class.\n",
    "     \n",
    "     * Double underscore ( __ ) are used to define private.\n",
    "     \n",
    "     3). Protected - This is a public but protected means no one can change this data . They can access this data but cannot change it.\n",
    "     "
   ]
  },
  {
   "cell_type": "markdown",
   "id": "1341ff63-a4e0-49e2-b54a-e7915818eb52",
   "metadata": {},
   "source": [
    "5. What are dunder methods in Python?\n",
    "\n",
    "   * A dunder method is a magic or special method.\n",
    "   * D - double and under - underscore , they are denoted by __ double underscore.\n",
    "   * Methods which startwith and endswith double underscore are dunder methods.\n",
    "   * This method create custom objects."
   ]
  },
  {
   "cell_type": "markdown",
   "id": "3a9bcbd9-0d8f-4ea9-8305-9e7ec8c828dd",
   "metadata": {},
   "source": [
    "6. What is a concept of inheritance?\n",
    "\n",
    "   * Inheritance is a concept in Object Oriented programming(OOP).\n",
    "   * In Inheritance, a new class(child) can use the properties and methods of an existing class (parent)."
   ]
  },
  {
   "cell_type": "markdown",
   "id": "a7958878-550a-445c-85f8-4c20d70687b7",
   "metadata": {},
   "source": [
    "7. What is Polymorphism in OOPs?\n",
    "\n",
    "   * Poly - many , morphism - forms.\n",
    "   * In OOPs , polymorphism allows one function, method ,or operator to behave differently based on the object.\n",
    "   * In other words, Polymorphism refers to an object taking several form depending on the methods/data.\n",
    "   * There are two types :\n",
    "      1. Method overloading : The traditional overloading is not supported by Python but we can use different method.\n",
    "      2. Method overriding : Method Overriding is nothing but redefining or rewritting methods of parent class in derived child class.\n",
    "                             The child class will always be executed."
   ]
  },
  {
   "cell_type": "markdown",
   "id": "20feeec1-278d-4d51-9b78-4f3c6300f557",
   "metadata": {},
   "source": [
    "8. How is Encapsulation achieved in Python?\n",
    "\n",
    "   * Encapsulation is protecting your data or bundling of data and methods of class.\n",
    "   * This is done using:\n",
    "      * Private and Protected : The data can be made Private ( no one can access that data ) and Protected (You can access data but enable it to modify)\n",
    "      * Getter and setter method : To access the data you can define a new function ,i.e, get and to modify you can define another new function,i.e, set. "
   ]
  },
  {
   "cell_type": "markdown",
   "id": "46906abf-a1a1-49c4-9a9c-225ea5117688",
   "metadata": {},
   "source": [
    "9. What is a constructor in Python?\n",
    "\n",
    "    * A Constructor is a special method used to initialize objects of a class.\n",
    "    * It is called automatically when you create a new object.\n",
    "    * Contructor - ( __init__ )"
   ]
  },
  {
   "cell_type": "markdown",
   "id": "266b7e84-269d-4f3f-821a-b3465360a054",
   "metadata": {},
   "source": [
    "10. What are class and static methods in Python?\n",
    "\n",
    "    * Class and static method both comes under Decorators.\n",
    "    * Class method is a method that refers to the class itself:\n",
    "        * To use class method use decorator, i.e., @classmethod ,under class\n",
    "        * Use cls as a parameter instead of self\n",
    "        * It directly refers to class and no need to create an object to call.\n",
    "    * Static method is the regular function, placed inside a class.\n",
    "        * It doesn't access or modify class or instance data.\n",
    "        * To use static method use decorator, i.e, @staticmethod, under class\n",
    "        * Takes no self or cls as a parameter. "
   ]
  },
  {
   "cell_type": "markdown",
   "id": "def3f037-96af-47dc-94ee-1a947d9a0fbd",
   "metadata": {},
   "source": [
    "11. What is method overloading in Python?\n",
    "\n",
    "    * Method overloading means having multiple methods in the same class with the same name but different parameters but Python doesnot support traditional method overloading directly.\n",
    "    * If you define same methods twice in Python, only last one is executed.\n",
    "    * We can achieve Python overloading in different way by using:\n",
    "        * Default argument\n",
    "        * Variable-length arguments "
   ]
  },
  {
   "cell_type": "markdown",
   "id": "ab171d2b-60de-4e16-80d0-d88fa2a4f6f5",
   "metadata": {},
   "source": [
    "12. What is method overriding in Python?\n",
    "\n",
    "    * Method Overriding is nothing but redefining or rewritting methods of parent class in derived child class.\n",
    "    * The child class will always be executed.\n",
    "    * Method overriding happens between two class, Parent class and Child class."
   ]
  },
  {
   "cell_type": "markdown",
   "id": "244a4729-d084-43fb-a07f-61253374eacc",
   "metadata": {},
   "source": [
    "13. What is a property decorator in Python?\n",
    "\n",
    "    * Property decorator is denoted by @property in the class.\n",
    "    * It allows method to be accessed as attributes, i.e, Earlier if we have to access the class then we have call obj the call class and add parenthesis in front of class. Now, if you add property decorator in the class you will be able to access the class by simply calling its name no need to add parenthesis you can call it as you call an attribute."
   ]
  },
  {
   "cell_type": "markdown",
   "id": "70de5290-25fe-4898-9444-93ced0aa4629",
   "metadata": {},
   "source": [
    "14. Why is Polymorphism important in OOP?\n",
    "\n",
    "    * Polymorphism means many forms, it allows the same function or method to behave differently depending on object.\n",
    "    * It is important as:\n",
    "      * Improves Code Reusability and Flexibility: You can write methods that work with different objects types\n",
    "      * Polymorphism helps implement inheritance and method overriding.\n",
    "      * It simplifies code."
   ]
  },
  {
   "cell_type": "markdown",
   "id": "9f576e51-9135-4af3-9b21-fe6bc3390043",
   "metadata": {},
   "source": [
    "15. What is an abstract class in Python?\n",
    "\n",
    "    * Abstract class in not directly called in class it has to be import .\n",
    "    * To import the class use : import abc\n",
    "    * Abstract class is used as base class and meant to be inherited by other classes.\n",
    "    * It is defined as @abc.abstractmethod or @abstractmethod "
   ]
  },
  {
   "cell_type": "markdown",
   "id": "82070cd6-6c75-45d1-90b4-b2d215a3f4d7",
   "metadata": {},
   "source": [
    "16. What are advantages of OOP?\n",
    "\n",
    "    1).  Modularity - Code is divided into reusable code.\n",
    "    \n",
    "    2).  Reusalibility - Reusable of code in classes under classes are allowed, i.e, Inheritance.\n",
    "    \n",
    "    3).  Encapsulation - Data is protected and hidden.\n",
    "    \n",
    "    4).  Polymorphism - Same method works differently for different objects.\n",
    "    \n",
    "    5).  Abstraction - Shows only essential details and hides unneccessary.\n",
    "    \n",
    "    6).  Scalable - Suitable for large and complex projects."
   ]
  },
  {
   "cell_type": "markdown",
   "id": "ed8997a1-02b6-486e-9483-4d0146bf517c",
   "metadata": {},
   "source": [
    "17. What is a different between a class variable and an instance variable?\n",
    "\n",
    "    * Class variable :\n",
    "        * Belongs to the class, and shared by all objects.\n",
    "        * It is inside the class but outside the methods.\n",
    "        * Accessed by using - Classname.variable or object.variable\n",
    "    * Instance variable :\n",
    "        * Belongs to the instance(object), unique to each.\n",
    "        * Inside a method, usually in (init).\n",
    "        * Accessed only by using object.variable   \n"
   ]
  },
  {
   "cell_type": "markdown",
   "id": "9e081ea4-bd2c-45a7-aaa9-81038ffe1ccc",
   "metadata": {},
   "source": [
    "18. What is multiple inheritance in Python?\n",
    "\n",
    "    * One child class may inherit the property of multiple Parent class is known as Multiple Inheritance."
   ]
  },
  {
   "cell_type": "markdown",
   "id": "d00837c4-b66d-4564-bc52-4e30377d668e",
   "metadata": {},
   "source": [
    "19. Explain the purpose of ‘’__str__’ and ‘__repr__’ ‘ methods in Python?\n",
    "\n",
    "    * This both are dunder/special methods.\n",
    "    * __str__\n",
    "      * Called by print(object) or str(object).\n",
    "      * Meant to be readable and informative for users.\n",
    "      * Returns a string that nicely describes the object.\n",
    "    * __repr__\n",
    "      * Called by repr(object) or when you type the object name.\n",
    "      * Meant to be unambiguous and helpful for debugging.\n",
    "      * Returns a string that could be used to recreate the object."
   ]
  },
  {
   "cell_type": "markdown",
   "id": "f6f6c5b7-f7b2-4606-94a4-0449ce201481",
   "metadata": {},
   "source": [
    "20. What is the significance of the super() function in Python?\n",
    "\n",
    "    * super() function is used to call methods or constructors from a parent class\n",
    "    * It is specially useful when working with inheritance.\n",
    "    * Significance :-\n",
    "        * Access Parent Methods or constructors.\n",
    "        * Avoid code duplication.\n",
    "        * Supports Multiple Inheritance.\n",
    "        * Makes code well maintained. "
   ]
  },
  {
   "cell_type": "markdown",
   "id": "52837a1c-3860-4bdf-a40b-05396b8da3ef",
   "metadata": {},
   "source": [
    "21. What is the significance of the __del__ method in Python.\n",
    "\n",
    "    Significance of del :-\n",
    "    * del stands for delete.\n",
    "    * Used to delete Variables, Elements from list, key-value pairs from dictionary, entire objects.\n",
    "    * By using del, you can delete anything it also deletes class and functions."
   ]
  },
  {
   "cell_type": "markdown",
   "id": "255a7721-595c-4e12-92c2-b643a31d325e",
   "metadata": {},
   "source": [
    "22. What is the difference between @staticmethod and @classmethod in Python?\n",
    "\n",
    "    * @staticmethod:\n",
    "      \n",
    "        1). static method does not takes special first argument.\n",
    "      \n",
    "        2). It cannot access class or instance data.\n",
    "      \n",
    "        3). Called on taking class name.\n",
    "      \n",
    "    * @classmethod:\n",
    "   \n",
    "      \n",
    "        1). class method takes special first argument,i.e., cls which stands for that particular class.\n",
    "   \n",
    "      \n",
    "        2). It can access and modify class data.\n",
    "   \n",
    "      \n",
    "        3). called on taking class name.  "
   ]
  },
  {
   "cell_type": "markdown",
   "id": "c7eba1bf-019f-4e47-a24c-08a715d83798",
   "metadata": {},
   "source": [
    "23. How does polymorphism work in Python with inheritance?\n",
    "\n",
    "    * Polymorphism means \"many forms\".\n",
    "    * It allows the same method name or operator to behave differently based on data.\n",
    "    * Two types :\n",
    "        * Method overloading - Python doesnot support this method.\n",
    "        * Method overriding - child class redefines a method from its parent class.\n"
   ]
  },
  {
   "cell_type": "markdown",
   "id": "52fa65e9-c103-42f0-ad46-ec49ab2bf4dc",
   "metadata": {},
   "source": [
    "24. What is method chaining in Python OOP?\n",
    "\n",
    "    * Method chaining in Python is a technique where multiple methods are called on the same object in a single line, one after another.\n",
    "    * Each method call returns the object itself, usually self . So, next method be called on it."
   ]
  },
  {
   "cell_type": "markdown",
   "id": "e874d65f-7ac1-45c6-97f6-58390ba4f875",
   "metadata": {},
   "source": [
    "25. What is the purpose of the __call__ method in Python?\n",
    "\n",
    "    * Call method is the dunder/special method used in functions.\n",
    "    * call method allows an instance of a class to be called like a function\n",
    "    * It is very useful function."
   ]
  },
  {
   "cell_type": "markdown",
   "id": "f12bb761-3575-4eba-b216-e04d65c793bd",
   "metadata": {},
   "source": [
    "# Practical Questions"
   ]
  },
  {
   "cell_type": "code",
   "execution_count": 8,
   "id": "0f62115d-b9e5-4d92-b566-5b84874a460f",
   "metadata": {},
   "outputs": [],
   "source": [
    "#1. Create a parent class Animal with a method speak() that prints a generic message. Create a child class Dog that overrides the speak() method to print \"Bark!\".\n",
    "class Animal:\n",
    "    def speak(self):\n",
    "        print(\" generic message\")\n",
    "class Dog(Animal):\n",
    "    def speak(self):\n",
    "        print(\"Bark!\")"
   ]
  },
  {
   "cell_type": "code",
   "execution_count": 9,
   "id": "3a04f1f7-aed7-4811-aa81-7a138536cacb",
   "metadata": {},
   "outputs": [],
   "source": [
    "dog = Dog()"
   ]
  },
  {
   "cell_type": "code",
   "execution_count": 10,
   "id": "fa0d790a-1dcc-42df-bb0f-a172cc3afcee",
   "metadata": {},
   "outputs": [
    {
     "name": "stdout",
     "output_type": "stream",
     "text": [
      "Bark!\n"
     ]
    }
   ],
   "source": [
    "dog.speak()"
   ]
  },
  {
   "cell_type": "code",
   "execution_count": 21,
   "id": "f8bb89dc-79a5-42ad-890a-5e822961082a",
   "metadata": {},
   "outputs": [],
   "source": [
    "#2. Write a program to create an abstract class Shape with a method area(). Derive classes Circle and Rectangle\n",
    "#from it and implement the area() method in both.\n"
   ]
  },
  {
   "cell_type": "code",
   "execution_count": 25,
   "id": "4690c5be-9bae-4a83-bf11-f7805fd44a65",
   "metadata": {},
   "outputs": [],
   "source": [
    "from abc import ABC,abstractmethod"
   ]
  },
  {
   "cell_type": "code",
   "execution_count": 33,
   "id": "4ba35c12-f7a7-4d7a-82f8-1c0f38643dbc",
   "metadata": {},
   "outputs": [],
   "source": [
    "\n",
    "class Shape:\n",
    "    @abstractmethod\n",
    "    def area(self):\n",
    "        print(\"This is a Shape class\")\n",
    "class Circle(Shape):\n",
    "    @abstractmethod\n",
    "    def area(self):\n",
    "        print(\"This is area of circle\")\n",
    "class Rectangle(Shape):\n",
    "    @abstractmethod\n",
    "    def area(self):\n",
    "        print(\"This is area of rectangle\")"
   ]
  },
  {
   "cell_type": "code",
   "execution_count": 36,
   "id": "0771c2f7-a0f6-4e00-ad1c-fba104581e1c",
   "metadata": {},
   "outputs": [
    {
     "name": "stdout",
     "output_type": "stream",
     "text": [
      "This is a Shape class\n"
     ]
    }
   ],
   "source": [
    "obj = Shape()\n",
    "obj.area()"
   ]
  },
  {
   "cell_type": "code",
   "execution_count": 35,
   "id": "808e147e-f527-4a3f-9cda-b22f161866b2",
   "metadata": {},
   "outputs": [
    {
     "name": "stdout",
     "output_type": "stream",
     "text": [
      "This is area of circle\n"
     ]
    }
   ],
   "source": [
    "obj1 = Circle()\n",
    "obj1.area()"
   ]
  },
  {
   "cell_type": "code",
   "execution_count": 29,
   "id": "ac8b6a7a-cb6c-4750-ae35-4d24c812998e",
   "metadata": {},
   "outputs": [
    {
     "name": "stdout",
     "output_type": "stream",
     "text": [
      "This is area of rectangle\n"
     ]
    }
   ],
   "source": [
    "obj2 = Rectangle()\n",
    "obj2.area()"
   ]
  },
  {
   "cell_type": "code",
   "execution_count": 36,
   "id": "cf1a823a-defe-4068-8a9e-6f28b636c3fb",
   "metadata": {},
   "outputs": [],
   "source": [
    "#3. Implement a multi-level inheritance scenario where a class Vehicle has an attribute type. Derive a class Car\n",
    "#and further derive a class ElectricCar that adds a battery attribute.\n",
    "class Vehicle:\n",
    "    def type_vehicle(self):\n",
    "        print(\"This is Vehicle class, contains many types\")\n",
    "class Car(Vehicle):\n",
    "    def type_car(self):\n",
    "        print(\"Here, presents an ElectricCar\")\n",
    "class ElectricCar(Car):\n",
    "    def battery(self):\n",
    "        print(\"Electric car having battery which ones charge runs approx. 120km \")"
   ]
  },
  {
   "cell_type": "code",
   "execution_count": 37,
   "id": "a51315cc-e63b-4f9f-8da7-41ff8e098be0",
   "metadata": {},
   "outputs": [
    {
     "name": "stdout",
     "output_type": "stream",
     "text": [
      "Here, presents an ElectricCar\n"
     ]
    }
   ],
   "source": [
    "car = ElectricCar()\n",
    "car.type_car()"
   ]
  },
  {
   "cell_type": "code",
   "execution_count": 38,
   "id": "6968c11f-cdae-400b-8065-0504b73f1787",
   "metadata": {},
   "outputs": [
    {
     "name": "stdout",
     "output_type": "stream",
     "text": [
      "This is Vehicle class, contains many types\n"
     ]
    }
   ],
   "source": [
    "car.type_vehicle()"
   ]
  },
  {
   "cell_type": "code",
   "execution_count": 39,
   "id": "621298a7-3afd-4130-a598-e35fef9cc82d",
   "metadata": {},
   "outputs": [
    {
     "name": "stdout",
     "output_type": "stream",
     "text": [
      "Electric car having battery which ones charge runs approx. 120km \n"
     ]
    }
   ],
   "source": [
    "car.battery()"
   ]
  },
  {
   "cell_type": "code",
   "execution_count": 1,
   "id": "90c90b4b-8613-44ea-8e03-6354917273a4",
   "metadata": {},
   "outputs": [],
   "source": [
    "#4. Demonstrate polymorphism by creating a base class Bird with a method fly(). Create two derived classes\n",
    "#Sparrow and Penguin that override the fly() method.\n",
    "class Bird:\n",
    "    def fly(self):\n",
    "        print(\"The bird can fly\")\n",
    "class Sparrow(Bird):\n",
    "    def fly(self):\n",
    "        print(\"The sparrow can fly\")\n",
    "class Penguin(Bird):\n",
    "    def fly(self):\n",
    "        print(\"Penguin cannot fly\")"
   ]
  },
  {
   "cell_type": "code",
   "execution_count": 2,
   "id": "2c7a9781-9ee8-4086-ac06-7330ef20d602",
   "metadata": {},
   "outputs": [
    {
     "name": "stdout",
     "output_type": "stream",
     "text": [
      "The bird can fly\n"
     ]
    }
   ],
   "source": [
    "object = Bird()\n",
    "object.fly()"
   ]
  },
  {
   "cell_type": "code",
   "execution_count": 3,
   "id": "b419c112-a16c-4a6e-ae51-bcf1e6180429",
   "metadata": {},
   "outputs": [
    {
     "name": "stdout",
     "output_type": "stream",
     "text": [
      "The sparrow can fly\n"
     ]
    }
   ],
   "source": [
    "sparrow = Sparrow()\n",
    "sparrow.fly()"
   ]
  },
  {
   "cell_type": "code",
   "execution_count": 4,
   "id": "e0f4c2e7-ce1d-4126-93fc-6b4dbbede5c3",
   "metadata": {},
   "outputs": [
    {
     "name": "stdout",
     "output_type": "stream",
     "text": [
      "Penguin cannot fly\n"
     ]
    }
   ],
   "source": [
    "penguin = Penguin()\n",
    "penguin.fly()"
   ]
  },
  {
   "cell_type": "code",
   "execution_count": 2,
   "id": "553ff426-b3ea-40fc-9959-2e808a4407c6",
   "metadata": {},
   "outputs": [],
   "source": [
    "#5. Write a program to demonstrate encapsulation by creating a class BankAccount with private attributes\n",
    "#balance and methods to deposit, withdraw, and check balance\n",
    "class BankAccount:\n",
    "    def __init__(self,initial_balance = 1000):\n",
    "        self.__balance = initial_balance   #Private attribute as __ is added before balance no one can change this\n",
    "        \n",
    "    def deposit(self,deposit):\n",
    "        if deposit > 0:\n",
    "            self.__balance = self.__balance + deposit\n",
    "            print(f\"Deposited:{deposit}, The amount is successfully deposited. Balance:{self.__balance}\")\n",
    "        else:\n",
    "            print(f\"The avaliable balance : {self.__balance}, do not extend the balance\")\n",
    "    def withdraw(self,withdraw):\n",
    "        if self.__balance < withdraw:\n",
    "            print(\"Do not have sufficient balance\")\n",
    "        else:\n",
    "            self.__balance = self.__balance - withdraw\n",
    "            print(f\"Withdraw : {withdraw}. The amount has been withdraw!. Balance: {self.__balance}\")\n",
    "    def Check_Balance(self):\n",
    "        print( f\"balance : {self.__balance}\")"
   ]
  },
  {
   "cell_type": "code",
   "execution_count": 3,
   "id": "28b6e659-358a-4ff8-9ff2-7a998a9b675e",
   "metadata": {},
   "outputs": [
    {
     "name": "stdout",
     "output_type": "stream",
     "text": [
      "Deposited:10000, The amount is successfully deposited. Balance:11000\n",
      "Withdraw : 5000. The amount has been withdraw!. Balance: 6000\n",
      "balance : 6000\n"
     ]
    }
   ],
   "source": [
    "acc = BankAccount()\n",
    "acc.deposit(10000)\n",
    "acc.withdraw(5000)\n",
    "acc.Check_Balance()"
   ]
  },
  {
   "cell_type": "code",
   "execution_count": 4,
   "id": "2d16bd40-853d-45fc-b5ed-9a5ee12aaeae",
   "metadata": {},
   "outputs": [
    {
     "ename": "AttributeError",
     "evalue": "'BankAccount' object has no attribute 'balance'",
     "output_type": "error",
     "traceback": [
      "\u001b[31m---------------------------------------------------------------------------\u001b[39m",
      "\u001b[31mAttributeError\u001b[39m                            Traceback (most recent call last)",
      "\u001b[36mCell\u001b[39m\u001b[36m \u001b[39m\u001b[32mIn[4]\u001b[39m\u001b[32m, line 1\u001b[39m\n\u001b[32m----> \u001b[39m\u001b[32m1\u001b[39m \u001b[43macc\u001b[49m\u001b[43m.\u001b[49m\u001b[43mbalance\u001b[49m() \u001b[38;5;66;03m#as balance is a private attribute it cannot be accessed it will throw an error\u001b[39;00m\n",
      "\u001b[31mAttributeError\u001b[39m: 'BankAccount' object has no attribute 'balance'"
     ]
    }
   ],
   "source": [
    "acc.balance() #as balance is a private attribute it cannot be accessed it will throw an error"
   ]
  },
  {
   "cell_type": "code",
   "execution_count": 5,
   "id": "7bd1c9ca-d641-467c-ae0e-6a2d86c748d5",
   "metadata": {},
   "outputs": [
    {
     "data": {
      "text/plain": [
       "6000"
      ]
     },
     "execution_count": 5,
     "metadata": {},
     "output_type": "execute_result"
    }
   ],
   "source": [
    "#We can access the balance by taking class name\n",
    "acc._BankAccount__balance"
   ]
  },
  {
   "cell_type": "code",
   "execution_count": 12,
   "id": "520e0daa-d9cd-4c1b-a9dc-3eed141ae382",
   "metadata": {},
   "outputs": [],
   "source": [
    "#6. Demonstrate runtime polymorphism using method play() in a base class Instrument. Derive classes Guitar and Piano that implement their own version of play().\n",
    "class Instrument:\n",
    "    def play(self):\n",
    "        print(\"Instruments are of many types\")\n",
    "class Guitar(Instrument):\n",
    "    def play(self):\n",
    "        print(\"I am a Guitar\")\n",
    "class Piano(Instrument):\n",
    "    def play(self):\n",
    "        print(\"I am a Piano\")"
   ]
  },
  {
   "cell_type": "code",
   "execution_count": 15,
   "id": "43993962-e7d6-452e-894f-395b22ff3d02",
   "metadata": {},
   "outputs": [
    {
     "name": "stdout",
     "output_type": "stream",
     "text": [
      "Instruments are of many types\n"
     ]
    }
   ],
   "source": [
    "instrument = Instrument()\n",
    "instrument.play()"
   ]
  },
  {
   "cell_type": "code",
   "execution_count": 13,
   "id": "3e02d951-c517-4164-8c5c-2884c934fbdf",
   "metadata": {},
   "outputs": [
    {
     "name": "stdout",
     "output_type": "stream",
     "text": [
      "I am a Guitar\n"
     ]
    }
   ],
   "source": [
    "guitar = Guitar()\n",
    "guitar.play()"
   ]
  },
  {
   "cell_type": "code",
   "execution_count": 14,
   "id": "22c9fa6a-6234-4729-931d-8220a036ef6c",
   "metadata": {},
   "outputs": [
    {
     "name": "stdout",
     "output_type": "stream",
     "text": [
      "I am a Piano\n"
     ]
    }
   ],
   "source": [
    "piano = Piano()\n",
    "piano.play()"
   ]
  },
  {
   "cell_type": "code",
   "execution_count": 8,
   "id": "062d341f-8074-4853-a925-55bf3a76db8e",
   "metadata": {},
   "outputs": [],
   "source": [
    "#7. Create a class MathOperations with a class method add_numbers() to add numbers and a static method substract_numbers() to substract two numbers.\n",
    "class MathOperations:\n",
    "    @classmethod\n",
    "    def add_numbers(cls,x,y):        #class method requires to pass special argument ,i.e., cls \n",
    "       return f\"The addition of numbers : {x+y}\"\n",
    "    @staticmethod\n",
    "    def substract_numbers(x,y):      #static method do not need any special argument like self,cls directly parameter can be written\n",
    "        return f\"The substraction of numbers : {x-y}\""
   ]
  },
  {
   "cell_type": "code",
   "execution_count": 9,
   "id": "439f0490-f341-4681-8cb2-784128a075b5",
   "metadata": {},
   "outputs": [
    {
     "data": {
      "text/plain": [
       "'The addition of numbers : 19'"
      ]
     },
     "execution_count": 9,
     "metadata": {},
     "output_type": "execute_result"
    }
   ],
   "source": [
    "MathOperations.add_numbers(10,9)  #we can access add numbers directly by taking class name because we have used class method."
   ]
  },
  {
   "cell_type": "code",
   "execution_count": 10,
   "id": "60347b7e-4788-41dc-ad96-bc84e0a1f52b",
   "metadata": {},
   "outputs": [
    {
     "data": {
      "text/plain": [
       "'The substraction of numbers : 1'"
      ]
     },
     "execution_count": 10,
     "metadata": {},
     "output_type": "execute_result"
    }
   ],
   "source": [
    "MathOperations.substract_numbers(10,9)  #static method also can be accessed using only class name"
   ]
  },
  {
   "cell_type": "code",
   "execution_count": 5,
   "id": "dbbc3c3d-3448-47e2-91ee-fa387f313496",
   "metadata": {},
   "outputs": [],
   "source": [
    "#8. Implement a class Person with a class method to count the total numbers of persons created.\n",
    "\n",
    "class Person:\n",
    "    count = 0 \n",
    "    def __init__(self,name):\n",
    "        self.name = name\n",
    "        Person.count = Person.count + 1\n",
    "    @classmethod\n",
    "    def get_count(cls):\n",
    "        return cls.count"
   ]
  },
  {
   "cell_type": "code",
   "execution_count": 76,
   "id": "c2bf2c00-8c79-40c5-b295-48ed25fe01a0",
   "metadata": {},
   "outputs": [],
   "source": [
    "per1= Person(\"Sneha\")"
   ]
  },
  {
   "cell_type": "code",
   "execution_count": 77,
   "id": "c2f84776-58fe-4914-9d9b-40fe145ecba5",
   "metadata": {},
   "outputs": [
    {
     "data": {
      "text/plain": [
       "1"
      ]
     },
     "execution_count": 77,
     "metadata": {},
     "output_type": "execute_result"
    }
   ],
   "source": [
    "Person.get_count()"
   ]
  },
  {
   "cell_type": "code",
   "execution_count": 78,
   "id": "aacecf91-42e6-4f79-9f1e-ee5d40fb3da1",
   "metadata": {},
   "outputs": [],
   "source": [
    "per2 = Person(\"Shital\")"
   ]
  },
  {
   "cell_type": "code",
   "execution_count": 79,
   "id": "54c4d9a6-948f-4a9a-b0c4-6b103fc13828",
   "metadata": {},
   "outputs": [
    {
     "data": {
      "text/plain": [
       "2"
      ]
     },
     "execution_count": 79,
     "metadata": {},
     "output_type": "execute_result"
    }
   ],
   "source": [
    "Person.get_count()"
   ]
  },
  {
   "cell_type": "code",
   "execution_count": 30,
   "id": "7bb2ac10-5fbc-4d5e-aa90-40873952cbcc",
   "metadata": {},
   "outputs": [],
   "source": [
    "#9. Write a class Fraction with attributes numerator and denominator. Override the str method to display the\n",
    "#fraction as \"numerator/denominator\".\n",
    "class Fraction:\n",
    "    def __init__(self,numerator,denominator):\n",
    "        self.numerator = numerator\n",
    "        self.denominator = denominator\n",
    "    def __str__(self):\n",
    "        return f\"{self.numerator/self.denominator}\""
   ]
  },
  {
   "cell_type": "code",
   "execution_count": 35,
   "id": "bb17aedc-dd31-43f6-a537-af83205379af",
   "metadata": {},
   "outputs": [],
   "source": [
    "frac= Fraction(81,9)"
   ]
  },
  {
   "cell_type": "code",
   "execution_count": 36,
   "id": "bcb313d8-001a-4025-bbae-8f8a66abf57c",
   "metadata": {},
   "outputs": [
    {
     "data": {
      "text/plain": [
       "9"
      ]
     },
     "execution_count": 36,
     "metadata": {},
     "output_type": "execute_result"
    }
   ],
   "source": [
    "frac.denominator"
   ]
  },
  {
   "cell_type": "code",
   "execution_count": 37,
   "id": "5e79727e-9e70-4585-a7cb-4177da5e4f35",
   "metadata": {},
   "outputs": [
    {
     "data": {
      "text/plain": [
       "81"
      ]
     },
     "execution_count": 37,
     "metadata": {},
     "output_type": "execute_result"
    }
   ],
   "source": [
    "frac.numerator"
   ]
  },
  {
   "cell_type": "code",
   "execution_count": 38,
   "id": "91447ad5-88e2-42a6-ad8c-2f5e7eb426bf",
   "metadata": {},
   "outputs": [
    {
     "data": {
      "text/plain": [
       "'9.0'"
      ]
     },
     "execution_count": 38,
     "metadata": {},
     "output_type": "execute_result"
    }
   ],
   "source": [
    "str(frac)"
   ]
  },
  {
   "cell_type": "code",
   "execution_count": 11,
   "id": "0dbc0fa2-dd63-49f1-bd8f-aa19fda60a1f",
   "metadata": {},
   "outputs": [],
   "source": [
    "#10. Demonstrate operator overloading by creating a class Vector and overriding the add method to add two\n",
    "#vectors.\n",
    "class Vector:\n",
    "    def __init__(self,A,B):\n",
    "        self.A = A\n",
    "        self.B = B\n",
    "    def __add__(self,other):\n",
    "        return Vector(self.A + other.A , self.B + other.B)\n",
    "    def __str__(self):\n",
    "        return f\"({self.A},{self.B})\""
   ]
  },
  {
   "cell_type": "code",
   "execution_count": 14,
   "id": "81b55f8e-1eca-4346-94b4-a756ca6e6c56",
   "metadata": {},
   "outputs": [
    {
     "name": "stdout",
     "output_type": "stream",
     "text": [
      "The vector is :  (4,6)\n"
     ]
    }
   ],
   "source": [
    "vec1 = Vector(1,2)\n",
    "vec2 = Vector(3,4)\n",
    "vec3 = vec1 + vec2\n",
    "print(\"The vector is : \",vec3)"
   ]
  },
  {
   "cell_type": "code",
   "execution_count": 81,
   "id": "d4db3957-99e3-4217-b3d3-75c3b98484fd",
   "metadata": {},
   "outputs": [],
   "source": [
    "#11. Create a class Person with attributes name and age. Add a method greet() that prints \"Hello, my name is\n",
    "#{name} and I am {age} years old.\"\n",
    "class Person:\n",
    "    def __init__(self,name,age):\n",
    "        self.name = name\n",
    "        self.age = age\n",
    "    def greet(self):\n",
    "        print(f\"Hello, my name is {self.name} and I am {self.age} years old.\")\n",
    "        "
   ]
  },
  {
   "cell_type": "code",
   "execution_count": 82,
   "id": "c5cb43fd-a600-4f60-a322-5660806008da",
   "metadata": {},
   "outputs": [
    {
     "name": "stdout",
     "output_type": "stream",
     "text": [
      "Hello, my name is Sneha and I am 21 years old.\n"
     ]
    }
   ],
   "source": [
    "per1 = Person(\"Sneha\",21)\n",
    "per1.greet()"
   ]
  },
  {
   "cell_type": "code",
   "execution_count": 83,
   "id": "7eb91301-753c-44ac-b37e-638f46667db5",
   "metadata": {},
   "outputs": [
    {
     "name": "stdout",
     "output_type": "stream",
     "text": [
      "Hello, my name is Shital and I am 41 years old.\n"
     ]
    }
   ],
   "source": [
    "per2 = Person(\"Shital\",41)\n",
    "per2.greet()"
   ]
  },
  {
   "cell_type": "code",
   "execution_count": 7,
   "id": "64bc39a8-2b84-4c12-8041-f990a1729095",
   "metadata": {},
   "outputs": [],
   "source": [
    "#12. Implement a class Student with attributes name and grades. Create a method average_grade() to compute\n",
    "#the average of the grades.\n",
    "class Student:\n",
    "    def __init__(self,name,grades):\n",
    "        self.name = name\n",
    "        self.grades = grades\n",
    "    def average_grade(self):\n",
    "          average = sum(self.grades)/ len(self.grades)\n",
    "          return f\"The average grade of {self.name} are : {average}\""
   ]
  },
  {
   "cell_type": "code",
   "execution_count": 8,
   "id": "7d986f80-1787-480d-bdf6-c493be2ea560",
   "metadata": {},
   "outputs": [
    {
     "data": {
      "text/plain": [
       "'The average grade of Sneha are : 85.0'"
      ]
     },
     "execution_count": 8,
     "metadata": {},
     "output_type": "execute_result"
    }
   ],
   "source": [
    "stud1 = Student(\"Sneha\",[90,89,85,76])\n",
    "stud1.average_grade()"
   ]
  },
  {
   "cell_type": "code",
   "execution_count": 10,
   "id": "3e762778-f37d-4d14-856f-8393ae6f51e7",
   "metadata": {},
   "outputs": [
    {
     "data": {
      "text/plain": [
       "'The average grade of Suhas are : 82.75'"
      ]
     },
     "execution_count": 10,
     "metadata": {},
     "output_type": "execute_result"
    }
   ],
   "source": [
    "stud2 = Student(\"Suhas\",[87,78,89,77])\n",
    "stud2.average_grade()"
   ]
  },
  {
   "cell_type": "code",
   "execution_count": 112,
   "id": "7b733a80-93dd-4131-98c3-19bba5aa1f50",
   "metadata": {},
   "outputs": [],
   "source": [
    "#13. Create a class Rectangle with methods set_dimensions() to set the dimensions and area() to calculate the\n",
    "#area.\n",
    "class Rectangle:\n",
    "    def __init__(self):\n",
    "        self.length = 0\n",
    "        self.breadth = 0\n",
    "    def set_dimensions(self,length,breadth):\n",
    "        self.length = length\n",
    "        self.breadth = breadth\n",
    "    def area(self):\n",
    "        Area = self.length * self.breadth\n",
    "        return f\"The area of rectangle : {Area}\""
   ]
  },
  {
   "cell_type": "code",
   "execution_count": 117,
   "id": "275f124e-424d-4982-b891-152a32f4586f",
   "metadata": {},
   "outputs": [
    {
     "data": {
      "text/plain": [
       "'The area of rectangle : 72'"
      ]
     },
     "execution_count": 117,
     "metadata": {},
     "output_type": "execute_result"
    }
   ],
   "source": [
    "Area = Rectangle()\n",
    "Area.set_dimensions(12,6)\n",
    "Area.area()"
   ]
  },
  {
   "cell_type": "code",
   "execution_count": 118,
   "id": "bc3c1e54-55ad-4453-9b7e-de0c9e4b3626",
   "metadata": {},
   "outputs": [
    {
     "data": {
      "text/plain": [
       "'The area of rectangle : 20'"
      ]
     },
     "execution_count": 118,
     "metadata": {},
     "output_type": "execute_result"
    }
   ],
   "source": [
    "Area.set_dimensions(5,4)\n",
    "Area.area()"
   ]
  },
  {
   "cell_type": "code",
   "execution_count": 172,
   "id": "01d13c2c-4345-4142-baa4-b2f8650e23a7",
   "metadata": {},
   "outputs": [],
   "source": [
    "#14. Create a class Employee with a method calculate_salary() that computes the salary based on hours worked\n",
    "#and hourly rate. Create a derived class Manager that adds a bonus to the salary.\n",
    "class Employee:\n",
    "    def __init__(self):\n",
    "        self.perhours = 1000\n",
    "        \n",
    "    def calculate_salary(self,salary,hours):\n",
    "        self.salary = salary\n",
    "        self.hours = hours\n",
    "        if hours == 0:\n",
    "            return f\"No extra salary credited as no extra work : {self.salary}\"\n",
    "        else:\n",
    "            self.salary = self.salary + self.perhours * self.hours\n",
    "            return f\"This is the salary as per your working hour : {self.salary}\"\n",
    "\n",
    "class Manager(Employee):\n",
    "    def add(self,bonus):\n",
    "        self.bonus = bonus\n",
    "        return f\"The bonus credited : {self.bonus}, Salary : {self.salary + self.bonus}\"\n",
    "    "
   ]
  },
  {
   "cell_type": "code",
   "execution_count": 173,
   "id": "e2a8d048-80eb-4387-b9fc-30482ded606e",
   "metadata": {},
   "outputs": [],
   "source": [
    "employ1 = Manager()\n",
    "employ2 = Manager()"
   ]
  },
  {
   "cell_type": "code",
   "execution_count": 174,
   "id": "108549af-a092-4479-9420-6aed255f7beb",
   "metadata": {},
   "outputs": [
    {
     "data": {
      "text/plain": [
       "'This is the salary as per your working hour : 27000'"
      ]
     },
     "execution_count": 174,
     "metadata": {},
     "output_type": "execute_result"
    }
   ],
   "source": [
    "employ1.calculate_salary(24000,3)"
   ]
  },
  {
   "cell_type": "code",
   "execution_count": 175,
   "id": "a741fa3d-7cbc-4c2a-9287-02d2521153ca",
   "metadata": {},
   "outputs": [
    {
     "data": {
      "text/plain": [
       "'No extra salary credited as no extra work : 24000'"
      ]
     },
     "execution_count": 175,
     "metadata": {},
     "output_type": "execute_result"
    }
   ],
   "source": [
    "employ2.calculate_salary(24000,0)"
   ]
  },
  {
   "cell_type": "code",
   "execution_count": 176,
   "id": "9d4b8277-38fb-4ca5-9f3d-ba8eed5667a8",
   "metadata": {},
   "outputs": [
    {
     "data": {
      "text/plain": [
       "27000"
      ]
     },
     "execution_count": 176,
     "metadata": {},
     "output_type": "execute_result"
    }
   ],
   "source": [
    "employ1.salary"
   ]
  },
  {
   "cell_type": "code",
   "execution_count": 177,
   "id": "721cb133-7343-4d1f-a7f5-f4ed305ad490",
   "metadata": {},
   "outputs": [
    {
     "data": {
      "text/plain": [
       "'The bonus credited : 2000, Salary : 29000'"
      ]
     },
     "execution_count": 177,
     "metadata": {},
     "output_type": "execute_result"
    }
   ],
   "source": [
    "employ1.add(2000)"
   ]
  },
  {
   "cell_type": "code",
   "execution_count": 178,
   "id": "d11494f1-3d2d-4481-a89a-11ac35f47601",
   "metadata": {},
   "outputs": [
    {
     "data": {
      "text/plain": [
       "'The bonus credited : 1000, Salary : 25000'"
      ]
     },
     "execution_count": 178,
     "metadata": {},
     "output_type": "execute_result"
    }
   ],
   "source": [
    "employ2.add(1000)"
   ]
  },
  {
   "cell_type": "code",
   "execution_count": 28,
   "id": "efe5c084-537e-4f87-ac59-91be88deb61a",
   "metadata": {},
   "outputs": [],
   "source": [
    "#15. Create a class Product with attributes name, price, and quantity. Implement a method total_price() that\n",
    "#calculates the total price of the product.\n",
    "class Product:\n",
    "    def __init__(self,name,price,quantity):\n",
    "        self.name = name\n",
    "        self.price = price\n",
    "        self.quantity = quantity\n",
    "    def total_price(self):\n",
    "        Price = self.price * self.quantity\n",
    "        return f\"The price of the product : {Price}\""
   ]
  },
  {
   "cell_type": "code",
   "execution_count": 35,
   "id": "764d828d-ee4a-49bd-921f-aad0084e9cba",
   "metadata": {},
   "outputs": [],
   "source": [
    "pro1 = Product(\"toothbrush\",20,4)\n",
    "pro2 = Product(\"Face-Powder\",75,2)\n",
    "pro3 = Product(\"Book\",175,1)"
   ]
  },
  {
   "cell_type": "code",
   "execution_count": 36,
   "id": "9e790c1c-f922-410b-991b-8146c67fca62",
   "metadata": {},
   "outputs": [
    {
     "data": {
      "text/plain": [
       "'The price of the product : 80'"
      ]
     },
     "execution_count": 36,
     "metadata": {},
     "output_type": "execute_result"
    }
   ],
   "source": [
    "pro1.total_price()"
   ]
  },
  {
   "cell_type": "code",
   "execution_count": 37,
   "id": "9a30a7be-dcea-4cde-a4a1-52b2d4aa9310",
   "metadata": {},
   "outputs": [
    {
     "data": {
      "text/plain": [
       "'The price of the product : 150'"
      ]
     },
     "execution_count": 37,
     "metadata": {},
     "output_type": "execute_result"
    }
   ],
   "source": [
    "pro2.total_price()"
   ]
  },
  {
   "cell_type": "code",
   "execution_count": 38,
   "id": "baa9cd82-7c1c-4815-8cda-90a6e6b61a26",
   "metadata": {},
   "outputs": [
    {
     "data": {
      "text/plain": [
       "'The price of the product : 175'"
      ]
     },
     "execution_count": 38,
     "metadata": {},
     "output_type": "execute_result"
    }
   ],
   "source": [
    "pro3.total_price()"
   ]
  },
  {
   "cell_type": "code",
   "execution_count": 10,
   "id": "7d90fe28-c7fd-44fa-88fc-9ec6633f8bf9",
   "metadata": {},
   "outputs": [],
   "source": [
    "#16. Create a class Animal with an abstract method sound(). Create two derived classes Cow and Sheep that\n",
    "#implement the sound() method.\n",
    "from abc import ABC, abstractmethod"
   ]
  },
  {
   "cell_type": "code",
   "execution_count": 33,
   "id": "1e01ff45-e746-4dba-9b23-cd50d91f8f2b",
   "metadata": {},
   "outputs": [],
   "source": [
    "class Animal:\n",
    "    @abstractmethod\n",
    "    def sound(self):\n",
    "        pass\n",
    "class Cow(Animal):\n",
    "    def sound(self):\n",
    "        print(\"This is a sound of Cow : moo\")\n",
    "class Sheep(Animal):\n",
    "    def sound(self):\n",
    "        print(\"This is a sound of a Sheep : Baa baa\")"
   ]
  },
  {
   "cell_type": "code",
   "execution_count": 34,
   "id": "093f8dae-0070-421a-99f1-8bb024bb4c69",
   "metadata": {},
   "outputs": [
    {
     "name": "stdout",
     "output_type": "stream",
     "text": [
      "This is a sound of Cow : moo\n"
     ]
    }
   ],
   "source": [
    "cow = Cow()\n",
    "cow.sound()"
   ]
  },
  {
   "cell_type": "code",
   "execution_count": 35,
   "id": "c8be6ded-ac65-4a8a-8069-a7044f1a1375",
   "metadata": {},
   "outputs": [
    {
     "name": "stdout",
     "output_type": "stream",
     "text": [
      "This is a sound of a Sheep : Baa baa\n"
     ]
    }
   ],
   "source": [
    "sheep = Sheep()\n",
    "sheep.sound()"
   ]
  },
  {
   "cell_type": "code",
   "execution_count": 63,
   "id": "85aa41bf-9391-49d3-88ae-e64edc6fa27a",
   "metadata": {},
   "outputs": [],
   "source": [
    "#17. Create a class Book with attributes title, author, and year_published. Add a method get_book_info() that\n",
    "#returns a formatted string with the book's details.\n",
    "class Book:\n",
    "    def __init__(self,title,author,year_published):\n",
    "        self.title = title\n",
    "        self.author = author\n",
    "        self.year_published = year_published\n",
    "    def get_book_info(self):\n",
    "        print (f\"Title : {self.title}\")\n",
    "        print (f\"Author : {self.author}\")\n",
    "        print (f\"Published year : {self.year_published}\")\n",
    "        "
   ]
  },
  {
   "cell_type": "code",
   "execution_count": 64,
   "id": "57753f0f-37bc-428f-96be-2a4a001da037",
   "metadata": {},
   "outputs": [],
   "source": [
    "book1 = Book(\"Shriman Yogi\",\"Ranjit Desai\",1970)\n",
    "book2 = Book(\"Chhava\",\"Shivaji Sawant\",1980)"
   ]
  },
  {
   "cell_type": "code",
   "execution_count": 65,
   "id": "cb7a7c84-1454-46dd-a90c-e711c192100e",
   "metadata": {},
   "outputs": [
    {
     "name": "stdout",
     "output_type": "stream",
     "text": [
      "Title : Chhava\n",
      "Author : Shivaji Sawant\n",
      "Published year : 1980\n"
     ]
    }
   ],
   "source": [
    "book2.get_book_info()"
   ]
  },
  {
   "cell_type": "code",
   "execution_count": 66,
   "id": "6fbd1ba6-22d4-45fb-a042-f0fc8af7d43d",
   "metadata": {},
   "outputs": [
    {
     "name": "stdout",
     "output_type": "stream",
     "text": [
      "Title : Shriman Yogi\n",
      "Author : Ranjit Desai\n",
      "Published year : 1970\n"
     ]
    }
   ],
   "source": [
    "book1.get_book_info()"
   ]
  },
  {
   "cell_type": "code",
   "execution_count": 79,
   "id": "c22010fc-3cad-478b-8861-8355a84ff47a",
   "metadata": {},
   "outputs": [],
   "source": [
    "#18. Create a class House with attributes address and price. Create a derived class Mansion that adds an\n",
    "#attribute number_of_rooms\n",
    "class House:\n",
    "    def __init__(self,address,price):\n",
    "        self.address = address\n",
    "        self.price = price\n",
    "class Mansion(House):\n",
    "    def number_of_rooms(self,rooms):\n",
    "        self.rooms = rooms\n",
    "        return f\"The final price of House based on {self.rooms} rooms is : {self.price } near {self.address}\"\n",
    " "
   ]
  },
  {
   "cell_type": "code",
   "execution_count": 80,
   "id": "ceb4c0c3-76d1-4201-b96c-fd6b1ab63714",
   "metadata": {},
   "outputs": [],
   "source": [
    "mansion = Mansion(\"Chh.Shivaji putla,kolhapur\",75000)"
   ]
  },
  {
   "cell_type": "code",
   "execution_count": 82,
   "id": "c239001c-691c-4e08-8ad3-1e6671fbafb2",
   "metadata": {},
   "outputs": [
    {
     "data": {
      "text/plain": [
       "'The final price of House based on 4 rooms is : 75000 near Chh.Shivaji putla,kolhapur'"
      ]
     },
     "execution_count": 82,
     "metadata": {},
     "output_type": "execute_result"
    }
   ],
   "source": [
    "mansion.number_of_rooms(4)"
   ]
  }
 ],
 "metadata": {
  "kernelspec": {
   "display_name": "Python 3 (ipykernel)",
   "language": "python",
   "name": "python3"
  },
  "language_info": {
   "codemirror_mode": {
    "name": "ipython",
    "version": 3
   },
   "file_extension": ".py",
   "mimetype": "text/x-python",
   "name": "python",
   "nbconvert_exporter": "python",
   "pygments_lexer": "ipython3",
   "version": "3.13.5"
  }
 },
 "nbformat": 4,
 "nbformat_minor": 5
}
