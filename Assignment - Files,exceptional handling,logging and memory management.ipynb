{
 "cells": [
  {
   "cell_type": "markdown",
   "id": "ed36c631-2684-4d28-a00e-747e27eb8e2c",
   "metadata": {},
   "source": [
    "# Theory Questions "
   ]
  },
  {
   "cell_type": "markdown",
   "id": "bb6b96b9-ffc1-4ee4-b67b-f4f2b9caf55d",
   "metadata": {},
   "source": [
    "1. What is the difference between interpreted and compiled languages?\n",
    "\n",
    "   #### Interpreted language:\n",
    "   * The source code is read and executed line-by-line by an interpreter.\n",
    "   * No seperate executable is created,i.e, Code is executed directly without a seperate compilation step to convert into machine language.\n",
    "   * e.g., Python, JavaScript.\n",
    "\n",
    "   #### Compiled language:\n",
    "   * The source code is translated into machine language by a computer.\n",
    "   * This machine code is then run by the computer.\n",
    "   * Machine language is a language that machine can understand.\n",
    "   * Java is both Interpreted and compiled language.\n",
    "   * e.g, C,C++,C#"
   ]
  },
  {
   "cell_type": "markdown",
   "id": "b494adde-3e24-4ce7-ac12-f75ef0e9ebbf",
   "metadata": {},
   "source": [
    "2. What is exception handling in Python?\n",
    "\n",
    "   * In Python, an exception is an event that occurs during program execution that disrupts the regular flow of code.\n",
    "   * In other words, something that disrupts the normal even is exception."
   ]
  },
  {
   "cell_type": "markdown",
   "id": "687c7d94-436b-469a-a0c5-3aecec97b277",
   "metadata": {},
   "source": [
    "3. What is the purpose of finally block in exception handling?\n",
    "\n",
    "   * Finally block is always written at the end of the program.\n",
    "   * It is the block always executed even, if you enter in exception block or not. It is executed."
   ]
  },
  {
   "cell_type": "markdown",
   "id": "610c3ded-feaf-4fd0-a7df-756216ff7246",
   "metadata": {},
   "source": [
    "4. What is logging in Python?\n",
    "\n",
    "   * In Python, logging records the state and flow of your program/code/software.\n",
    "   * It is useful for understanding, monitoring and debugging of your code.\n",
    "   * It shows how program behaves over time."
   ]
  },
  {
   "cell_type": "markdown",
   "id": "ed657440-70da-4931-a9a0-251b3e5f210f",
   "metadata": {},
   "source": [
    "5. What is the significance of the _ _del_ _ method in Python?\n",
    "\n",
    "   * The _ _ del_ _ method in Python is a special method known as destructor.\n",
    "   * del is used to delete the unneccessary or unwanted information inside any program that is not required.\n",
    "   * It used to delete the particular whole program or class,function,etc"
   ]
  },
  {
   "cell_type": "markdown",
   "id": "d63d10b9-8d9a-4624-b51d-e23a2f1dcc41",
   "metadata": {},
   "source": [
    "6. What is the difference between import and from..import in Python?\n",
    "\n",
    "   ##### import -\n",
    "   * It is used to import the entire module.\n",
    "   * You can access its functions or variables using dot notation.\n",
    "     \n",
    "   ##### from..import\n",
    "   * from..import - Imports only specific items (like functions,class or variables) from a module\n",
    "   * You can use it directly without the module name."
   ]
  },
  {
   "cell_type": "markdown",
   "id": "ac3df82f-d3fd-446e-bdaa-3e9d4ffe8afa",
   "metadata": {},
   "source": [
    "7. How can you handle multiple exceptions in Python?\n",
    "\n",
    "   * Multiple exception handling can be done using try,except,else\n",
    "   * try block - use to try the expression whether the expression is wrong or correct.\n",
    "   * except block - excepts the error in the code present in try block.\n",
    "   * else block - executes when the error is excepted by the except block.\n",
    "   * This way multiple exception handling is done."
   ]
  },
  {
   "cell_type": "markdown",
   "id": "39a5cc58-f518-4099-9082-38a82e1d5239",
   "metadata": {},
   "source": [
    "8. What is the purpose of the with statement when handling files in Python?\n",
    "\n",
    "   * with satement is very useful while handling a file.\n",
    "   * Using with in code ,i.e, with open , can open the file and stores the data written while making the file we donot need to close the file.\n",
    "   * It automatically stores the data in \"w\" mode also."
   ]
  },
  {
   "cell_type": "markdown",
   "id": "25681c07-6bd8-4565-a78a-9a0ef2a3f70f",
   "metadata": {},
   "source": [
    "9. What is the difference between multithreading and multiprocessing?\n",
    "\n",
    "    ### Multithreading :\n",
    "   * Since, it happens on one processor, threads share same memory space and resources(data,variables,etc) within the process.\n",
    "   * Multithreading is the concurrent process.\n",
    "   * use - Input/output process, downloading files\n",
    "   * Best for task, part of same application and need to share a data, resources.\n",
    "\n",
    "    ### Multiprocessing :\n",
    "   * Multiple processors are there.\n",
    "   * Each process has its own memory space and resources which are isolated from other process.\n",
    "   * Multiprocessing is a parallel processing on multiple CPU cores(No GIL)\n",
    "   * use - Suitable for tasks that are independent and can run isolation.\n",
    "   * e.g, Some computations."
   ]
  },
  {
   "cell_type": "markdown",
   "id": "44d4c7e6-b3b2-41f1-95ed-7ebc0805f15f",
   "metadata": {},
   "source": [
    "10. What are the advantages of using logging in a program?\n",
    "\n",
    "    #### Advantages of logging :\n",
    "    * Instead of print statement always better to use logging.\n",
    "    * It makes debugging easy.\n",
    "    * logs can show errors, crashes and resource usage.\n",
    "    * Useful in production to detect issues without interrupting a program.\n",
    "    * It saves time.\n",
    "    * Logging has log levels to for better control."
   ]
  },
  {
   "cell_type": "markdown",
   "id": "8e828020-9f33-4bbc-a259-8b5e2bb3f1ac",
   "metadata": {},
   "source": [
    "11. What is memory management in Python?\n",
    "\n",
    "    * Memory Management in Python refers to the way Python handle the allocation and deallocation of memory during program execution.\n",
    "    * It ensures efficient use of memory and avoids memory leaks(unused memory that is never released)."
   ]
  },
  {
   "cell_type": "markdown",
   "id": "aeb4fdb7-c074-4f77-817e-0efb2ed218df",
   "metadata": {},
   "source": [
    "12. What are basic steps involved in exceptional handling in Python?\n",
    "\n",
    "    * In Python, handling exceptions involves more than just try and except.\n",
    "    * try block - Put the risky code inside the try block. This is the code that might raise an exception.\n",
    "    * except block - Catches and handles the error. You can specify the type of exception.\n",
    "    * else block(Optional)- Executes if no exception occurs in the try block.\n",
    "    * finally block(Optional but useful) - Runs no matter what is an exception, usually use to close the file."
   ]
  },
  {
   "cell_type": "markdown",
   "id": "49682469-61fb-4fbc-9f33-ddb69ef810ff",
   "metadata": {},
   "source": [
    "13. Why is memory management important in Python?\n",
    "\n",
    "    * Memory management is crucial in Python to ensure your programs run efficiently,reliably and safely.\n",
    "    * Importance :\n",
    "        * Efficient Use of Resources\n",
    "        * Avoids memory leaks\n",
    "        * Automatic Garbage Collection\n",
    "        * Supports Dynamic Typing\n",
    "        * Improves performance\n",
    "        * Simplifies Develop's job "
   ]
  },
  {
   "cell_type": "markdown",
   "id": "99183f42-d3dd-4f79-b06c-a011ed6a47d4",
   "metadata": {},
   "source": [
    "14. What is the role of try and except in exceptional handling?\n",
    "\n",
    "    * Role of try : The try is a block in which, you can put the risky code and this is the code that  might raise an exception.\n",
    "    * Role of except ; After the try block, except block is executed based on what is there in try block, if the try block consist the errored code then the except block except the error and program runs without throwing an error."
   ]
  },
  {
   "cell_type": "markdown",
   "id": "3bb1dff4-d065-4f9a-b40d-ddcab27e31d2",
   "metadata": {},
   "source": [
    "15. How does Python's garbage collection system works?\n",
    "\n",
    "    Python's garbage collection(GC) system is responsible for automatically reclaiming memory used by objects that are no longer needed.\n",
    "    "
   ]
  },
  {
   "cell_type": "markdown",
   "id": "a411e848-49f0-4f0c-b1cb-0b634ed13aab",
   "metadata": {},
   "source": [
    "16. What is the purpose of the else block in exception handling?\n",
    "\n",
    "    * The else block in Python's exception handling is used to run code only if no exception occured in the try block.\n",
    "    * It keeps your code clean and readable.\n",
    "    * Separates the logic that runs only when there are no errors."
   ]
  },
  {
   "cell_type": "markdown",
   "id": "43459b23-79c3-40ea-81b5-4a29c94ab88e",
   "metadata": {},
   "source": [
    "17. What are common logging levels in Python?\n",
    "\n",
    "    * Logging is imported as it is by default in Python as module, So\n",
    "    * import logging \n",
    "    ### Levels of Logging\n",
    "    #### Level 1 -- DEBUG\n",
    "    * Lowest level of logging.\n",
    "    * Use - To give detailed information of any variable, msg while doing debugging.\n",
    "    #### Level 2 -- INFO\n",
    "    * It is just to print\n",
    "    * Use - To convey that the code is working as expected.\n",
    "    #### Level 3 -- WARNING\n",
    "    * Use - To indicate something unexpected happend or potential issue in the code.\n",
    "    #### Level 4 -- ERROR\n",
    "    * Serious problem with some functions.\n",
    "    #### Level 5 -- CRITICAL\n",
    "    * Highest level of logging\n",
    "    * Terminal of program/code/software."
   ]
  },
  {
   "cell_type": "markdown",
   "id": "cbeb7d8b-863b-4a0e-b8de-88367508f851",
   "metadata": {},
   "source": [
    "18. What is the difference between os.fork() and multiprocessing in Python?\n",
    "\n",
    "    ### os.fork() :\n",
    "    * It is a low level\n",
    "    * It can be runned on only systems like Unix/Linux\n",
    "    * It is more complex to manage manually.\n",
    "    * requires manual setup\n",
    "    * Must handle errors manually.\n",
    "    * Use case - When you want direct control over process creation, this comes handy.\n",
    "\n",
    "    ### multiprocessing :\n",
    "    * High level(Python abstraction)\n",
    "    * Cross- platforms(Windows, Linux,macOS)\n",
    "    * Easier to use with built-in-classes/functions\n",
    "    * Built-in support\n",
    "    * Provides better error handling tools\n",
    "    * When you want safe,simple,portable multiprogramming, this comes handy."
   ]
  },
  {
   "cell_type": "markdown",
   "id": "dac2e2ca-677e-4867-8b81-1cbbb67d5919",
   "metadata": {},
   "source": [
    "19. What is importance of closing the file in Pyhton?\n",
    "\n",
    "    * Closing the file, is most important as if you are not closing the file you are unable to see the content of the file you stored.\n",
    "    * To close the file use , filemame.close() #filename is where you have to enter your file name\n",
    "    * Once you close the file, then only you are able to see the content inside the file."
   ]
  },
  {
   "cell_type": "markdown",
   "id": "b480ec4a-7e4d-450a-8345-c467df733663",
   "metadata": {},
   "source": [
    "20. What is the difference between file.read() and file.readline() in Python?\n",
    "\n",
    "    * file.read() -- This reads the whole fle line-by-line whereas file.readline() -- only reads first line of the particular file."
   ]
  },
  {
   "cell_type": "markdown",
   "id": "b94d2179-a85c-41de-a3f9-8446fa3e1ffe",
   "metadata": {},
   "source": [
    "21. What is the logging module in Python used for?\n",
    "\n",
    "    * The logging module in Python is used to record(log) messages about your program execution.\n",
    "    * Its a powerful tool for debugging, monitoring and maintaining your code\n",
    "    * It saves log to files."
   ]
  },
  {
   "cell_type": "markdown",
   "id": "c3d3d6ba-cf8a-45a4-a5ec-9f7ed4b68c64",
   "metadata": {},
   "source": [
    "22. What is os module in Python used for in file handling?\n",
    "\n",
    "    * The os module in Python is used to interact with the operating system, especially for files and directory handling."
   ]
  },
  {
   "cell_type": "markdown",
   "id": "51fac618-014f-43f8-ab13-e208bde24e48",
   "metadata": {},
   "source": [
    "23. What are the challenges associated with memmory management?\n",
    "\n",
    "    * Even though, Python handles memory automatically some challenges still exist in large complex programs.\n",
    "      1). Circular Reference\n",
    "      \n",
    "      2). memory leaks\n",
    "\n",
    "      3). Large object Retention\n",
    "\n",
    "      4). Developer Awareness\n",
    "\n",
    "      5). Unpredictable Garbage collection time\n",
    "\n",
    "      6). Finalizers(__del__) issues\n",
    "    \n",
    "      7). memory Fragmentation"
   ]
  },
  {
   "cell_type": "markdown",
   "id": "36d0b7ea-66ba-4843-9a7e-afdea98a7165",
   "metadata": {},
   "source": [
    "24. How do you raise an exception manually in Python?\n",
    "\n",
    "    * To raise an exception in Python, instead of print we have to use raise.\n",
    "    * This raise keyword is use to raise an exception in Python."
   ]
  },
  {
   "cell_type": "markdown",
   "id": "dcfcb4b1-5bda-4a42-95d4-9f22e7226346",
   "metadata": {},
   "source": [
    "25. Why is it important to use multithreading in certain applications?\n",
    "\n",
    "    * Multithreading is important in certain apps to improve performance by allowing multiple tasks to run simultaneously.\n",
    "    * Especially, for tasks like I/O operations, without blocking the main program it executes\n",
    "    "
   ]
  },
  {
   "cell_type": "markdown",
   "id": "3e48d95c-a4cf-4d29-ab13-07a9789b56ab",
   "metadata": {},
   "source": [
    "# Practical Questions "
   ]
  },
  {
   "cell_type": "code",
   "execution_count": 16,
   "id": "ca6f4ca0-f370-494f-a84b-a1341e4bf0e1",
   "metadata": {},
   "outputs": [],
   "source": [
    "#1. How can you open a file for writing in Python and write a string to it?\n",
    "file = open(\"file.txt\",\"w\")\n",
    "file.write(\"My name is Sneha.\")\n",
    "file.write(\"This is my first file\")\n",
    "file.close()"
   ]
  },
  {
   "cell_type": "code",
   "execution_count": 36,
   "id": "09d36e5c-fc4f-44ca-9704-ab02c67499fc",
   "metadata": {},
   "outputs": [
    {
     "data": {
      "text/plain": [
       "'My name is Sneha.This is my first file'"
      ]
     },
     "execution_count": 36,
     "metadata": {},
     "output_type": "execute_result"
    }
   ],
   "source": [
    "#2. Write a Python program to read a contents of a files and print each line.\n",
    "file = open(\"file.txt\",\"r\")\n",
    "file.read()"
   ]
  },
  {
   "cell_type": "code",
   "execution_count": 37,
   "id": "9ee877cc-048e-4b53-b6ca-e85eea2aab86",
   "metadata": {},
   "outputs": [
    {
     "name": "stdout",
     "output_type": "stream",
     "text": [
      "The issue is :  [Errno 2] No such file or directory: 'sample.txt'\n"
     ]
    }
   ],
   "source": [
    "#3. How would you handle the case where your file doesn't exist while trying to open it for reading?\n",
    "\n",
    "try: \n",
    "   f = open(\"sample.txt\",\"r\")\n",
    "except Exception as e:\n",
    "    print(\"The issue is : \",e)\n",
    "    "
   ]
  },
  {
   "cell_type": "code",
   "execution_count": 2,
   "id": "b8baf1a5-74d3-4450-81c5-92e40cafc9f3",
   "metadata": {},
   "outputs": [
    {
     "name": "stdout",
     "output_type": "stream",
     "text": [
      "Content copied succcessfully My name is Sneha.This is my first file\n"
     ]
    }
   ],
   "source": [
    "#4. Write a Python script that reads from one file and writes its content to another file.\n",
    "source_file = \"file.txt\"\n",
    "destination_file = \"destination.txt\"\n",
    "try:\n",
    "    with open(source_file,\"r\") as src:\n",
    "        content = src.read()\n",
    "    with open(destination_file,\"w\")as dest:\n",
    "        dest.write(content)\n",
    "        print(\"Content copied succcessfully\",content)\n",
    "except FileNotFoundError:\n",
    "    print(f\"The file {source_file} doesnot exist.\")\n",
    "except IOError as e:\n",
    "    print(f\"Än error occured : {e}\")"
   ]
  },
  {
   "cell_type": "code",
   "execution_count": 2,
   "id": "f372404b-3d60-4786-affc-a6f82434f54b",
   "metadata": {},
   "outputs": [
    {
     "name": "stdout",
     "output_type": "stream",
     "text": [
      "The error is : division by zero\n"
     ]
    }
   ],
   "source": [
    "#5. How would you catch and handle division by zero error in Python\n",
    "try: \n",
    "    10/0\n",
    "except ZeroDivisionError as e:\n",
    "    print(f\"The error is : {e}\")"
   ]
  },
  {
   "cell_type": "code",
   "execution_count": 19,
   "id": "4fb52fbb-a1d0-4750-918c-71035026a65e",
   "metadata": {},
   "outputs": [
    {
     "name": "stdout",
     "output_type": "stream",
     "text": [
      "division by zero\n"
     ]
    }
   ],
   "source": [
    "#6. Write a Python program that logs an error message to a log file when a division by zero exception occurs.\n",
    "try:\n",
    "    15/0\n",
    "except ZeroDivisionError as e:\n",
    "    print(e)\n",
    "    logging.error(f\"The error is occured : {e}\")\n",
    "    logging.shutdown()"
   ]
  },
  {
   "cell_type": "code",
   "execution_count": 15,
   "id": "0e2c5bfd-adf3-4521-8572-08ada687aebe",
   "metadata": {},
   "outputs": [],
   "source": [
    "#7. How do you log information at different levels (INFO, ERROR, WARNING) in Python using the logging module.\n",
    "import logging\n",
    "logging.basicConfig(filename = \"file.log\", level = logging.INFO)\n",
    "logging.info(\"This is the first line of log file in Info\")\n",
    "logging.warning(\"This is the warning\")\n",
    "logging.error(\"There is some issue, check again\")"
   ]
  },
  {
   "cell_type": "code",
   "execution_count": 4,
   "id": "22d4deaa-890a-49bb-8de5-ed28c11a6586",
   "metadata": {},
   "outputs": [
    {
     "name": "stdout",
     "output_type": "stream",
     "text": [
      "The file error is : [Errno 2] No such file or directory: 'sample2.txt'\n"
     ]
    }
   ],
   "source": [
    "#8. Write a program to handle a file opening error using exception handling.\n",
    "try:\n",
    "    files = open(\"sample2.txt\",\"r\")\n",
    "except FileNotFoundError as e:\n",
    "    print(f\"The file error is : {e}\")"
   ]
  },
  {
   "cell_type": "code",
   "execution_count": 28,
   "id": "7d6dd52d-164e-4fa9-acb5-816c1ca06fea",
   "metadata": {},
   "outputs": [
    {
     "name": "stdout",
     "output_type": "stream",
     "text": [
      "My name is Sneha, I am a graduate, Now taken admission to Data Analytics course in PWskills\n",
      "['My name is Sneha, I am a graduate, Now taken admission to Data Analytics course in PWskills']\n"
     ]
    }
   ],
   "source": [
    "#9.How can you read a file line by line and store its content in a list in Python?\n",
    "try:\n",
    "    files = open(\"files.txt\",\"w\")\n",
    "    files.write(\"My name is Sneha, \"),\n",
    "    files.write(\"I am a graduate, \"),\n",
    "    files.write(\"Now taken admission to Data Analytics course in PWskills\")\n",
    "    file.close()\n",
    "except Exception as e:\n",
    "    print(f\"Issue is : {e}\")\n",
    "else:\n",
    "    files = open(\"files.txt\",\"r\")\n",
    "    l = []\n",
    "    for i in files:\n",
    "        print(i)\n",
    "        l.append(i)\n",
    "file.close()\n",
    "print(l)"
   ]
  },
  {
   "cell_type": "code",
   "execution_count": 7,
   "id": "40dc4ff9-5077-4fc3-b6c2-970f254e7447",
   "metadata": {},
   "outputs": [],
   "source": [
    "#10. How can you append data to an existing file in Python?\n",
    "files = open(\"files.txt\",\"a\")\n",
    "files.write(\" Here I am learnng the Python now \")\n",
    "files.close()"
   ]
  },
  {
   "cell_type": "code",
   "execution_count": 17,
   "id": "7a031f45-6763-4576-977c-6b26a305cbed",
   "metadata": {},
   "outputs": [
    {
     "name": "stdout",
     "output_type": "stream",
     "text": [
      "The error in the dict : 'Qualification'\n"
     ]
    }
   ],
   "source": [
    "#11. Write a Python program that uses a try-except block to handle an error when attempting to access a\n",
    "#dictionary key that doesn't exist.\n",
    "my_dict = {\"name\":\"Sneha\",\"age\":21}\n",
    "try:\n",
    "   my_dict[\"Qualification\"] \n",
    "except Exception as e:\n",
    "    print(f\"The error in the dict : {e}\")"
   ]
  },
  {
   "cell_type": "code",
   "execution_count": 8,
   "id": "550f3cd8-3148-423a-9d1a-577ba29606fd",
   "metadata": {},
   "outputs": [
    {
     "name": "stdout",
     "output_type": "stream",
     "text": [
      "The error in the code is  : division by zero\n"
     ]
    }
   ],
   "source": [
    "#12. Write a program that demonstrates using multiple except blocks to handle different types of exceptions.\n",
    "try:\n",
    "    5/0\n",
    "except ZeroDivisionError as e:\n",
    "    print(\"The error in the code is  :\",e)\n",
    "except UnsupportedOperandtype as e:\n",
    "    print(\"The error in the code is:\", e)"
   ]
  },
  {
   "cell_type": "code",
   "execution_count": 9,
   "id": "3945c9e8-b54c-4d91-80f6-937b2d5d0919",
   "metadata": {},
   "outputs": [
    {
     "name": "stdout",
     "output_type": "stream",
     "text": [
      "The error in code is: can only concatenate str (not \"int\") to str\n"
     ]
    }
   ],
   "source": [
    "try:\n",
    "    a=\"5\"\n",
    "    b=3\n",
    "    print(a+b)\n",
    "except ZeroDivisionError as e:   #this is for Zero division\n",
    "    print(\"The error is :\",e)\n",
    "except TypeError as e:           #this is for concatination of str\n",
    "    print(\"The error in code is:\", e)"
   ]
  },
  {
   "cell_type": "code",
   "execution_count": 21,
   "id": "41d8f08c-4c5d-43ff-bd03-b1c6190ed8b6",
   "metadata": {},
   "outputs": [
    {
     "name": "stdout",
     "output_type": "stream",
     "text": [
      "File doesnt exist\n"
     ]
    }
   ],
   "source": [
    "#13.How would you check if a file exists before attempting to read it in Python?\n",
    "import os\n",
    "file_path = \"sample.log\"   #this file exists so it is showing content of the file\n",
    "if os.path.exists(file_path):\n",
    "    with open(file_path,\"r\") as file:\n",
    "        content = file.read()\n",
    "        print(content)\n",
    "else:\n",
    "    print(\"File doesnt exist\")"
   ]
  },
  {
   "cell_type": "code",
   "execution_count": 22,
   "id": "f478de21-165a-4f30-a133-02838d5d73b2",
   "metadata": {},
   "outputs": [],
   "source": [
    "#14. Write a program that uses the logging module to log both informational and error messages.\n",
    "import logging\n",
    "logging.basicConfig(file = \"file.log\",level = logging.INFO)\n",
    "logging.info(\"This is information regarding message \")\n",
    "logging.error(\"Error as the information is not correct\")"
   ]
  },
  {
   "cell_type": "code",
   "execution_count": 38,
   "id": "71239664-9050-4b65-ae41-fe190404201a",
   "metadata": {},
   "outputs": [
    {
     "name": "stdout",
     "output_type": "stream",
     "text": [
      "File content :\n",
      "My name is Sneha.This is my first file\n"
     ]
    }
   ],
   "source": [
    "#15. Write a Python program that prints the content of a file and handles the case when the file is empty.\n",
    "import os\n",
    "file_path = \"file.txt\"\n",
    "if os.path.exists(file_path):\n",
    "    with open(file_path,\"r\")as file:\n",
    "        content = file.read()\n",
    "        if content.strip() == \"\":\n",
    "            print(\"The file is empty\")\n",
    "        else:\n",
    "            print(\"File content :\")\n",
    "            print(content)\n",
    "else:\n",
    "    print(\"The file is doesnot exist :\",file_path)"
   ]
  },
  {
   "cell_type": "code",
   "execution_count": 12,
   "id": "2e309c7b-42ff-4ec2-b03e-27b7eae540ea",
   "metadata": {},
   "outputs": [
    {
     "name": "stdout",
     "output_type": "stream",
     "text": [
      "ERROR: Could not find file C:\\Users\\Sneha\\AppData\\Local\\Temp\\ipykernel_7152\\1236831744.py\n"
     ]
    }
   ],
   "source": [
    "#16. Demonstrate how to use memory profiling to check the memory usage of a small program.\n",
    "from memory_profiler import profile\n",
    "@profile\n",
    "def create_list():\n",
    "    my_list = [i*2 for i in range(100)]\n",
    "    return my_list\n",
    "if __name__ == \"__main__\":\n",
    "    create_list()\n"
   ]
  },
  {
   "cell_type": "code",
   "execution_count": 13,
   "id": "36d3c10c-5ab7-4847-ad88-68596f71e218",
   "metadata": {},
   "outputs": [
    {
     "name": "stdout",
     "output_type": "stream",
     "text": [
      "ERROR: Could not find file C:\\Users\\Sneha\\AppData\\Local\\Temp\\ipykernel_7152\\1236831744.py\n"
     ]
    },
    {
     "data": {
      "text/plain": [
       "[0,\n",
       " 2,\n",
       " 4,\n",
       " 6,\n",
       " 8,\n",
       " 10,\n",
       " 12,\n",
       " 14,\n",
       " 16,\n",
       " 18,\n",
       " 20,\n",
       " 22,\n",
       " 24,\n",
       " 26,\n",
       " 28,\n",
       " 30,\n",
       " 32,\n",
       " 34,\n",
       " 36,\n",
       " 38,\n",
       " 40,\n",
       " 42,\n",
       " 44,\n",
       " 46,\n",
       " 48,\n",
       " 50,\n",
       " 52,\n",
       " 54,\n",
       " 56,\n",
       " 58,\n",
       " 60,\n",
       " 62,\n",
       " 64,\n",
       " 66,\n",
       " 68,\n",
       " 70,\n",
       " 72,\n",
       " 74,\n",
       " 76,\n",
       " 78,\n",
       " 80,\n",
       " 82,\n",
       " 84,\n",
       " 86,\n",
       " 88,\n",
       " 90,\n",
       " 92,\n",
       " 94,\n",
       " 96,\n",
       " 98,\n",
       " 100,\n",
       " 102,\n",
       " 104,\n",
       " 106,\n",
       " 108,\n",
       " 110,\n",
       " 112,\n",
       " 114,\n",
       " 116,\n",
       " 118,\n",
       " 120,\n",
       " 122,\n",
       " 124,\n",
       " 126,\n",
       " 128,\n",
       " 130,\n",
       " 132,\n",
       " 134,\n",
       " 136,\n",
       " 138,\n",
       " 140,\n",
       " 142,\n",
       " 144,\n",
       " 146,\n",
       " 148,\n",
       " 150,\n",
       " 152,\n",
       " 154,\n",
       " 156,\n",
       " 158,\n",
       " 160,\n",
       " 162,\n",
       " 164,\n",
       " 166,\n",
       " 168,\n",
       " 170,\n",
       " 172,\n",
       " 174,\n",
       " 176,\n",
       " 178,\n",
       " 180,\n",
       " 182,\n",
       " 184,\n",
       " 186,\n",
       " 188,\n",
       " 190,\n",
       " 192,\n",
       " 194,\n",
       " 196,\n",
       " 198]"
      ]
     },
     "execution_count": 13,
     "metadata": {},
     "output_type": "execute_result"
    }
   ],
   "source": [
    "create_list()"
   ]
  },
  {
   "cell_type": "code",
   "execution_count": 6,
   "id": "f4ee0e1d-910f-4ad7-a852-813ac0eb535a",
   "metadata": {},
   "outputs": [
    {
     "name": "stdout",
     "output_type": "stream",
     "text": [
      "Numbers written to numbers.txt successfully\n",
      "Numbers written to numbers.txt successfully\n",
      "Numbers written to numbers.txt successfully\n",
      "Numbers written to numbers.txt successfully\n",
      "Numbers written to numbers.txt successfully\n",
      "Numbers written to numbers.txt successfully\n",
      "Numbers written to numbers.txt successfully\n"
     ]
    }
   ],
   "source": [
    "#17. Write a Python program to create and write a list of numbers to a file, one number per line.\n",
    "numbers = [5,10,15,20,25,30,35]\n",
    "filename = \"numbers.txt\"\n",
    "try:\n",
    "    with open(filename,\"w\") as file:\n",
    "        for number in numbers:\n",
    "            file.write(f\"{number}\\n\")\n",
    "            print(f\"Numbers written to {filename} successfully\")\n",
    "except IOError as e:\n",
    "        print(f\"An error occured : {e}\")\n"
   ]
  },
  {
   "cell_type": "code",
   "execution_count": 14,
   "id": "17dfd87e-eaf1-4cce-a539-b669817b03df",
   "metadata": {},
   "outputs": [],
   "source": [
    "#18 How would you implement a basic logging setup that logs to a file with rotation after 1MB?\n",
    "import logging\n",
    "from logging.handlers import RotatingFileHandler\n",
    "handler = RotatingFileHandler(\"app.log\", maxBytes = 1024*1024,backupCount = 2)\n",
    "logging.basicConfig(level = logging.INFO,format = \"%(asctime)s -%(levelname)s-%(message)s\",handlers = [handler])\n",
    "for i in range(100):\n",
    "    logging.info(f\"log message {i}\")    #output is stored in the file name app.log"
   ]
  },
  {
   "cell_type": "code",
   "execution_count": 11,
   "id": "67ec7d16-babf-457c-b621-7ca7cb8ce104",
   "metadata": {},
   "outputs": [],
   "source": [
    "#19. Write a program that handles both IndexError and KeyError using a try-except block.\n",
    "def handle_error():\n",
    "    my_list = [10,20,30]\n",
    "    my_dict= {\"name\":\"Sneha\",\"age\":21}\n",
    "    try:\n",
    "        print(my_list[5])\n",
    "        print(my_dict[\"Qualification\"])\n",
    "    except (IndexError,KeyError) as e:\n",
    "        print(\"An error : \",e)\n",
    "    try:\n",
    "         print(my_dict[\"Qualification\"])\n",
    "    except (IndexError,KeyError) as e:\n",
    "        print(f\"An error : {e}\") "
   ]
  },
  {
   "cell_type": "code",
   "execution_count": 13,
   "id": "8bda3a2d-a76b-442f-8573-046ef3b09494",
   "metadata": {},
   "outputs": [
    {
     "name": "stdout",
     "output_type": "stream",
     "text": [
      "An error :  list index out of range\n",
      "An error : 'Qualification'\n"
     ]
    }
   ],
   "source": [
    "handle_error()"
   ]
  },
  {
   "cell_type": "code",
   "execution_count": 14,
   "id": "b324cd56-4696-41a2-aba6-db7932254317",
   "metadata": {},
   "outputs": [
    {
     "name": "stdout",
     "output_type": "stream",
     "text": [
      "My name is Sneha.This is my first file\n"
     ]
    }
   ],
   "source": [
    "#20.How would you open a file and read its contents using a context manager in Python?\n",
    "filename = \"file.txt\"\n",
    "try:\n",
    "    with open(filename,\"r\") as file:\n",
    "        content = file.read()\n",
    "        print(content)\n",
    "except FileNotFoundError as e:\n",
    "    print(f\"The file {filename} doesnot not exist\")"
   ]
  },
  {
   "cell_type": "code",
   "execution_count": 19,
   "id": "d6264fe4-5786-401b-9fa3-501749b2a0cc",
   "metadata": {},
   "outputs": [
    {
     "name": "stdin",
     "output_type": "stream",
     "text": [
      "Enter the file name: numbers.txt\n",
      "Enter the word to search :  5\n"
     ]
    },
    {
     "name": "stdout",
     "output_type": "stream",
     "text": [
      "The word 5 appears 1 times\n"
     ]
    }
   ],
   "source": [
    "#21 Write a Python program that reads a file and prints the number of occurrences of a specific word.\n",
    "file_name = input(\"Enter the file name:\")\n",
    "search_word = input(\"Enter the word to search : \")\n",
    "try:\n",
    "    with open(file_name,\"r\") as file:\n",
    "        content = file.read()\n",
    "        word_count= content.lower().split().count(search_word.lower())\n",
    "        print(f\"The word {search_word} appears {word_count} times\")\n",
    "except FileNotFoundError as e:\n",
    "    print(e)\n"
   ]
  },
  {
   "cell_type": "code",
   "execution_count": 20,
   "id": "065e4546-03a7-4fde-a4b9-7017f15afcf0",
   "metadata": {},
   "outputs": [
    {
     "name": "stdout",
     "output_type": "stream",
     "text": [
      "The file is empty\n"
     ]
    }
   ],
   "source": [
    "#22.How can you check if a file is empty before attempting to read its contents?\n",
    "import os \n",
    "filename = \"empty.txt\"\n",
    "if os.path.exists(filename):\n",
    "    if os.path.getsize(filename)==0:\n",
    "        print(\"The file is empty\")\n",
    "    else:\n",
    "        with open(filename,\"r\") as file:\n",
    "            content = file.read()\n",
    "            print(\"File content :\\n\",content)\n",
    "else:\n",
    "    print(\"The file doesnot exists\")\n",
    "        "
   ]
  },
  {
   "cell_type": "code",
   "execution_count": 20,
   "id": "2e983a6f-e6d0-4874-93a8-1d8a3f2abbd7",
   "metadata": {},
   "outputs": [],
   "source": [
    "#23.Write a Python program that writes to a log file when an error occurs during file handling.\n",
    "import logging\n",
    "logging.basicConfig(filename = \"error_log.txt\",level = logging.ERROR,format =\"%(asctime)s - %(message)s\")\n",
    "def read_file(filename):\n",
    "    try:\n",
    "        with open(filename,\"r\") as file:\n",
    "            content = file.read()\n",
    "            print(\"File content :\\n\",content)\n",
    "    except FileNotFoundError as e :\n",
    "        print(e)\n",
    "        logging.error(f\"IoError: {e}\")\n",
    "    "
   ]
  },
  {
   "cell_type": "code",
   "execution_count": 21,
   "id": "b6fa15d4-ac97-4cca-8622-5decdc9aab36",
   "metadata": {},
   "outputs": [
    {
     "name": "stdout",
     "output_type": "stream",
     "text": [
      "File content :\n",
      " ERROR:root:Something is wrong\n",
      "ERROR:root:There is some issue, check again\n",
      "ERROR:root:Division by zero\n",
      "ERROR:root:Division by zero\n",
      "ERROR:root:There is some issue, check again\n",
      "ERROR:root:There is some issue, check again\n",
      "ERROR:ipykernel.comm:No such comm target registered: jupyter.widget.control\n",
      "ERROR:root:There is some issue, check again\n",
      "ERROR:root:There is some issue, check again\n",
      "ERROR:root:There is some issue, check again\n",
      "ERROR:root:There is some issue, check again\n",
      "ERROR:root:Error as the information is not correct\n",
      "ERROR:root:The error is occured : division by zero\n",
      "ERROR:root:Error as the information is not correct\n",
      "\n"
     ]
    }
   ],
   "source": [
    "read_file(\"file.log\")"
   ]
  }
 ],
 "metadata": {
  "kernelspec": {
   "display_name": "Python 3 (ipykernel)",
   "language": "python",
   "name": "python3"
  },
  "language_info": {
   "codemirror_mode": {
    "name": "ipython",
    "version": 3
   },
   "file_extension": ".py",
   "mimetype": "text/x-python",
   "name": "python",
   "nbconvert_exporter": "python",
   "pygments_lexer": "ipython3",
   "version": "3.13.5"
  }
 },
 "nbformat": 4,
 "nbformat_minor": 5
}
