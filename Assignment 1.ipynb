{
 "cells": [
  {
   "cell_type": "markdown",
   "id": "f7a74220-2f9c-468c-94b9-0ce82e54a777",
   "metadata": {},
   "source": [
    "# Assignment 1-Python basics"
   ]
  },
  {
   "cell_type": "raw",
   "id": "5ef2b0f1-4a00-48b4-b565-4b50d010bf0f",
   "metadata": {},
   "source": [
    "1.What is python and why is it popular?\n",
    ":- * Python is a programming language and it is easy to understand.\n",
    "   * Its a beginner friendly language, easy to learn this makes the choices of many developers and programmers to use python. \n",
    "   * Python has many libraries which are useful and used by many users,\n",
    "     e.g, Pycharm,Jupyter notebook,V S code,etc this are the python IDE.\n",
    "     Hence, this is been popular programming language. \n"
   ]
  },
  {
   "cell_type": "raw",
   "id": "55278e0e-9aed-4221-927d-92cb79ae2672",
   "metadata": {},
   "source": [
    "2.What is an interpreter in python?\n",
    ":- * Interpreter in Python is a program that reads and execute the code line by line.\n",
    "   * It translates the high level python code to machine code(that computer can understand)."
   ]
  },
  {
   "cell_type": "raw",
   "id": "7f4d1d0a-b333-4a08-b7bc-6ce627993d3e",
   "metadata": {},
   "source": [
    "3.What are pre-defined keywords in python?\n",
    ":- * Pre-defined keywords are reserved words in python.\n",
    "   * They cannot be used as variables, function,etc\n",
    "   * They are case sensitive.\n",
    "     e.g, def,print,if,else,while,for,etc."
   ]
  },
  {
   "cell_type": "raw",
   "id": "a1a22394-cebb-473a-990b-5d5ba864a275",
   "metadata": {},
   "source": [
    "4.Can keywords be used as variables names?\n",
    ":- No, keywords cannot be used as variables names as they are case-sensitive(having special meaning)."
   ]
  },
  {
   "cell_type": "raw",
   "id": "6e40b527-e9db-46ed-a463-d68daf5b8dbf",
   "metadata": {},
   "source": [
    "5.What is mutability in python?\n",
    ":- The elements or objects from either lists and dictionary(dict) can be able to change this is called mutability."
   ]
  },
  {
   "cell_type": "raw",
   "id": "03da2175-b97e-4e89-8518-b9b414983d86",
   "metadata": {},
   "source": [
    "6.Why are lists mutable but tuple immutable?\n",
    ":- Lists are used to store collections of items that can change whereas tuple are immutable as they are designed to hold fixed collections and data cannot be changed once stored."
   ]
  },
  {
   "cell_type": "raw",
   "id": "0bb099b2-3b75-4b2a-981e-202bbdd37aa1",
   "metadata": {},
   "source": [
    "7.What is the difference between '=='and 'is' operators in python?\n",
    ":-'==' is the comparison operator which compare the two values in program and 'is' is identity operator which checks if two variables point to the same object in memory."
   ]
  },
  {
   "cell_type": "raw",
   "id": "db697ccb-bf00-43e4-9136-d2b9f3b96e6c",
   "metadata": {},
   "source": [
    "8.What are logical operators in python?\n",
    ":- Logical operators are used to combine conditional statements and give output in boolean.\n",
    "   They are of 3 types:1). and\n",
    "                       2). or\n",
    "                       3). not"
   ]
  },
  {
   "cell_type": "raw",
   "id": "6dc2e783-ed77-4741-b492-49d58241cc79",
   "metadata": {},
   "source": [
    "9.What is type casting in python?\n",
    ":- Type casting is the change of data type from one to another.\n",
    "   The data can be changed or converted from one type to another ,i.e,  str to int,float to int, int to float, etc.\n",
    "   Types of type casting:1). Implicit and 2). Explicit"
   ]
  },
  {
   "cell_type": "raw",
   "id": "21bfc404-e9fd-4a24-8543-3945968ed01e",
   "metadata": {},
   "source": [
    "10.What is different between Implicit and Explicit type casting?\n",
    ":- Implicit: It is automatically done by python without user involvement.\n",
    "   Explicit: It is the done by programmer using functions like int(), float(),etc"
   ]
  },
  {
   "cell_type": "raw",
   "id": "c56e4d0f-2709-4705-b546-cf724dd03987",
   "metadata": {},
   "source": [
    "11.What is the purpose of conditional statement in python?\n",
    ":- The purpose of conditional statement is to allow a program to make decisions based on mutliple conditions.\n",
    "   * They control the flow of program.\n",
    "   * They helps to make decisions."
   ]
  },
  {
   "cell_type": "raw",
   "id": "8b524ba3-8842-4481-a407-db04d67adf6f",
   "metadata": {},
   "source": [
    "12.How does the elif statement work?\n",
    ":- Elif statement works if they are multiple conditions in certian conditions."
   ]
  },
  {
   "cell_type": "raw",
   "id": "aa164992-4118-4863-b783-a3eca14d16df",
   "metadata": {},
   "source": [
    "13.What is the difference between for and while loop?\n",
    ":- \"For\"loops are used for iterating the sequence of elements, while \"while\" loop executed a block of code until a condition is met."
   ]
  },
  {
   "cell_type": "raw",
   "id": "818f36a5-2d7f-44c0-985d-1e5cb2ceede7",
   "metadata": {},
   "source": [
    "14.Describe a scenario where a while loop is more suitable than a for loop?\n",
    ":- Reading user input until they type\"exit\" as we don't know how many time it will repeat perfect for a while loop.\n",
    "    * 'for'loop is fixed repition and 'while' loop is condition based repition."
   ]
  },
  {
   "cell_type": "markdown",
   "id": "23e93609-aa86-4534-960e-775f41af7b8e",
   "metadata": {},
   "source": [
    "# Practical Questions"
   ]
  },
  {
   "cell_type": "code",
   "execution_count": 3,
   "id": "059a4148-832b-437b-b17e-81031982e66e",
   "metadata": {},
   "outputs": [
    {
     "name": "stdout",
     "output_type": "stream",
     "text": [
      "Hello, World\n"
     ]
    }
   ],
   "source": [
    "#1. Write a python program to print \"Hello, World!\"\n",
    "print(\"Hello, World\")"
   ]
  },
  {
   "cell_type": "code",
   "execution_count": 4,
   "id": "6d7b820b-62fa-42b0-88ba-2c35ff814e4b",
   "metadata": {},
   "outputs": [
    {
     "name": "stdout",
     "output_type": "stream",
     "text": [
      "My name is Sneha and I am 21 yrs old\n"
     ]
    }
   ],
   "source": [
    "#2. Write a python program that displays your name and age.\n",
    "name=\"Sneha\"\n",
    "age=21\n",
    "print(f\"My name is {name} and I am {age} yrs old\")"
   ]
  },
  {
   "cell_type": "code",
   "execution_count": 2,
   "id": "93b6ae43-9aad-4cb5-ac26-2245e5888105",
   "metadata": {},
   "outputs": [
    {
     "name": "stdout",
     "output_type": "stream",
     "text": [
      "\n",
      "Here is a list of the Python keywords.  Enter any keyword to get more help.\n",
      "\n",
      "False               class               from                or\n",
      "None                continue            global              pass\n",
      "True                def                 if                  raise\n",
      "and                 del                 import              return\n",
      "as                  elif                in                  try\n",
      "assert              else                is                  while\n",
      "async               except              lambda              with\n",
      "await               finally             nonlocal            yield\n",
      "break               for                 not                 \n",
      "\n"
     ]
    }
   ],
   "source": [
    "#3. Write a code to print all the pre-defined keywords in python using the keyword library.\n",
    "help(\"keywords\")"
   ]
  },
  {
   "cell_type": "code",
   "execution_count": 4,
   "id": "1e41124f-ea33-4c49-af54-77afb85af8fb",
   "metadata": {},
   "outputs": [
    {
     "name": "stdin",
     "output_type": "stream",
     "text": [
      "Enter a word  while\n"
     ]
    },
    {
     "name": "stdout",
     "output_type": "stream",
     "text": [
      "while is a  python keyword.\n"
     ]
    }
   ],
   "source": [
    "#4.Write a program that checks if a given words is a Python keyword. \n",
    "import keyword\n",
    "python_keywords = keyword.kwlist\n",
    "word = input(\"Enter a word \")\n",
    "if word in python_keywords:\n",
    "    print(f\"{word} is a  python keyword.\")\n",
    "else:\n",
    "    print(f\"{word} is not a python keyword\")"
   ]
  },
  {
   "cell_type": "code",
   "execution_count": 6,
   "id": "0340a863-b3b5-486a-94e7-fd001a79204f",
   "metadata": {},
   "outputs": [],
   "source": [
    "#5. Create a list and tuple in python, demonstrate how attempting to change an element works differently for each.\n",
    "fruits = [\"apple\",\"banana\",\"pineapple\"]\n",
    "num = (1,2,3,4,5)\n",
    "fruits[0]=\"orange\"\n"
   ]
  },
  {
   "cell_type": "code",
   "execution_count": 8,
   "id": "32d6b525-4a17-4957-a0e8-9f4a5eb6057b",
   "metadata": {},
   "outputs": [
    {
     "name": "stdout",
     "output_type": "stream",
     "text": [
      "['orange', 'banana', 'pineapple']\n"
     ]
    }
   ],
   "source": [
    "print(fruits) #as the 1st element of the list have been changed; list is mutable"
   ]
  },
  {
   "cell_type": "code",
   "execution_count": 9,
   "id": "c81346e1-7f98-4f83-8967-fad9f748498e",
   "metadata": {},
   "outputs": [
    {
     "ename": "TypeError",
     "evalue": "'tuple' object does not support item assignment",
     "output_type": "error",
     "traceback": [
      "\u001b[31m---------------------------------------------------------------------------\u001b[39m",
      "\u001b[31mTypeError\u001b[39m                                 Traceback (most recent call last)",
      "\u001b[36mCell\u001b[39m\u001b[36m \u001b[39m\u001b[32mIn[9]\u001b[39m\u001b[32m, line 1\u001b[39m\n\u001b[32m----> \u001b[39m\u001b[32m1\u001b[39m \u001b[43mnum\u001b[49m\u001b[43m[\u001b[49m\u001b[32;43m2\u001b[39;49m\u001b[43m]\u001b[49m=\u001b[32m6\u001b[39m\n",
      "\u001b[31mTypeError\u001b[39m: 'tuple' object does not support item assignment"
     ]
    }
   ],
   "source": [
    "num[2]=6 #it shows an error as it does not support item assignment; tuple are immutables"
   ]
  },
  {
   "cell_type": "code",
   "execution_count": 25,
   "id": "2cf135c6-eaec-46d4-b5fa-df0dcc691c78",
   "metadata": {},
   "outputs": [
    {
     "name": "stdout",
     "output_type": "stream",
     "text": [
      "Before function call:\n",
      "a = 10\n",
      "b = [1, 2, 3]\n",
      "Inside function:\n",
      "x = 15\n",
      "my_list = [1, 2, 3, 100]\n",
      "After function call:\n",
      "a = 10\n",
      "b = [1, 2, 3, 100]\n"
     ]
    }
   ],
   "source": [
    "#6. Write a function to demonstrate the behavior of mutable and immutable arguments.\n",
    "def change_values(x, my_list):\n",
    "    x = x + 5              \n",
    "    my_list.append(100)    \n",
    "\n",
    "    print(\"Inside function:\")\n",
    "    print(\"x =\", x)\n",
    "    print(\"my_list =\", my_list)\n",
    "\n",
    "# Initial values\n",
    "a = 10\n",
    "b = [1, 2, 3]\n",
    "\n",
    "print(\"Before function call:\")\n",
    "print(\"a =\", a)\n",
    "print(\"b =\", b)\n",
    "\n",
    "change_values(a, b)\n",
    "\n",
    "print(\"After function call:\")\n",
    "print(\"a =\", a)\n",
    "print(\"b =\", b)\n"
   ]
  },
  {
   "cell_type": "code",
   "execution_count": 22,
   "id": "787a1bfe-8c81-4b00-98d7-270b9770afb7",
   "metadata": {},
   "outputs": [
    {
     "name": "stdin",
     "output_type": "stream",
     "text": [
      "Enter no.1:  67\n",
      "Enter no.2:  55\n"
     ]
    },
    {
     "name": "stdout",
     "output_type": "stream",
     "text": [
      "The addition of no.:  122\n",
      "The sub of no.:  -12\n",
      "Multiplication of no. is:  3685\n",
      "Division of no. is:  122\n"
     ]
    }
   ],
   "source": [
    "#7. Write a program that performs basic arithematic operations on two user-input numbers.\n",
    "num_1 = int(input(\"Enter no.1: \"))\n",
    "num_2 = int(input(\"Enter no.2: \"))\n",
    "print(\"The addition of no.: \",num_1+num_2)\n",
    "print(\"The sub of no.: \",num_2-num_1)\n",
    "print(\"Multiplication of no. is: \",num_1*num_2)\n",
    "print(\"Division of no. is: \", num_2+num_1)"
   ]
  },
  {
   "cell_type": "code",
   "execution_count": 3,
   "id": "8ea5240e-0282-4945-83fe-4fac3e43f3f8",
   "metadata": {},
   "outputs": [
    {
     "name": "stdout",
     "output_type": "stream",
     "text": [
      "a and b : False\n",
      "a or b : True\n",
      "not a : False\n",
      "not b : True\n"
     ]
    }
   ],
   "source": [
    "#8. Write a program to demonstrate the use of logical operators.\n",
    "a = True\n",
    "b = False\n",
    "# AND operator\n",
    "print(\"a and b :\", a and b)\n",
    "# OR operator\n",
    "print(\"a or b :\", a or b)\n",
    "# NOT operator\n",
    "print(\"not a :\", not a)\n",
    "print(\"not b :\", not b)"
   ]
  },
  {
   "cell_type": "code",
   "execution_count": 5,
   "id": "95a1925b-5eb7-40ec-a9a3-e6e52a2eb98e",
   "metadata": {},
   "outputs": [
    {
     "name": "stdin",
     "output_type": "stream",
     "text": [
      "Enter no.:  78\n"
     ]
    },
    {
     "name": "stdout",
     "output_type": "stream",
     "text": [
      "<class 'str'>\n",
      "<class 'int'>\n"
     ]
    },
    {
     "data": {
      "text/plain": [
       "78"
      ]
     },
     "execution_count": 5,
     "metadata": {},
     "output_type": "execute_result"
    }
   ],
   "source": [
    "#9. Write  a program to convert user input from string to integar,float, and boolean types.\n",
    "#sting to integar\n",
    "x = input(\"Enter no.: \")\n",
    "print(type(x))\n",
    "print(type(int(x)))\n",
    "int(x)"
   ]
  },
  {
   "cell_type": "code",
   "execution_count": 3,
   "id": "8d668e8d-1820-47de-9857-183286ff2f19",
   "metadata": {},
   "outputs": [
    {
     "name": "stdin",
     "output_type": "stream",
     "text": [
      "Enter no.:  78.9\n"
     ]
    },
    {
     "name": "stdout",
     "output_type": "stream",
     "text": [
      "<class 'str'>\n",
      "<class 'float'>\n"
     ]
    },
    {
     "data": {
      "text/plain": [
       "78.9"
      ]
     },
     "execution_count": 3,
     "metadata": {},
     "output_type": "execute_result"
    }
   ],
   "source": [
    "#string to float\n",
    "a = input(\"Enter no.: \")\n",
    "print(type(a))\n",
    "print(type(float(a)))\n",
    "float(a)"
   ]
  },
  {
   "cell_type": "code",
   "execution_count": 4,
   "id": "2487a821-2176-4d22-8be8-a660d24face0",
   "metadata": {},
   "outputs": [
    {
     "name": "stdin",
     "output_type": "stream",
     "text": [
      "Enter value :  78\n"
     ]
    },
    {
     "name": "stdout",
     "output_type": "stream",
     "text": [
      "<class 'str'>\n",
      "<class 'bool'>\n"
     ]
    },
    {
     "data": {
      "text/plain": [
       "True"
      ]
     },
     "execution_count": 4,
     "metadata": {},
     "output_type": "execute_result"
    }
   ],
   "source": [
    "#string to bool\n",
    "y = input(\"Enter value : \")\n",
    "print(type(y))\n",
    "print(type(bool(y)))\n",
    "bool(y)"
   ]
  },
  {
   "cell_type": "code",
   "execution_count": 8,
   "id": "ab39c45a-cdc2-4a22-92ce-4d6d0d8bf971",
   "metadata": {},
   "outputs": [
    {
     "name": "stdout",
     "output_type": "stream",
     "text": [
      "['1', 2, 'banana', 'ram', (3+4j)]\n"
     ]
    }
   ],
   "source": [
    "#10. Write a code to demonstrate type casting with list elements.\n",
    "list = [1,2,\"banana\",\"ram\",3+4j]\n",
    "list[0] = \"1\" #type of 1 is changed to str\n",
    "print(list)"
   ]
  },
  {
   "cell_type": "code",
   "execution_count": 14,
   "id": "09d8be63-1d81-4cb1-ad31-c1a11ffdd84d",
   "metadata": {},
   "outputs": [
    {
     "name": "stdin",
     "output_type": "stream",
     "text": [
      "Enter a number :  -315\n"
     ]
    },
    {
     "name": "stdout",
     "output_type": "stream",
     "text": [
      "A -315 is a negative no.\n"
     ]
    }
   ],
   "source": [
    "#11. Write a program to demonstrate if a number is positive, negative or zero.\n",
    "Number = int(input(\"Enter a number : \"))\n",
    "if Number > 1:\n",
    "    print(f\"A {Number} is a positive no.\")\n",
    "elif Number < 0:\n",
    "    print(f\"A {Number} is a negative no.\")\n",
    "else:\n",
    "    print(f\"A {Number} is zero\")"
   ]
  },
  {
   "cell_type": "code",
   "execution_count": 18,
   "id": "8d145c9d-b2e8-4cf5-b439-d0ba24acd008",
   "metadata": {},
   "outputs": [
    {
     "name": "stdout",
     "output_type": "stream",
     "text": [
      "1\n",
      "2\n",
      "3\n",
      "4\n",
      "5\n",
      "6\n",
      "7\n",
      "8\n",
      "9\n",
      "10\n"
     ]
    }
   ],
   "source": [
    "#12. Write a for loop to print number 1 to 10.\n",
    "N = [1,2,3,4,5,6,7,8,9,10]\n",
    "for i in N:\n",
    "    print(i)"
   ]
  },
  {
   "cell_type": "code",
   "execution_count": 6,
   "id": "74ade120-f3a3-49e7-99c2-215bcba650fe",
   "metadata": {},
   "outputs": [
    {
     "name": "stdout",
     "output_type": "stream",
     "text": [
      "2\n",
      "6\n",
      "12\n",
      "20\n",
      "30\n",
      "42\n",
      "56\n",
      "72\n",
      "90\n",
      "110\n",
      "132\n",
      "156\n",
      "182\n",
      "210\n",
      "240\n",
      "272\n",
      "306\n",
      "342\n",
      "380\n",
      "420\n",
      "462\n",
      "506\n",
      "552\n",
      "600\n",
      "650\n"
     ]
    }
   ],
   "source": [
    "#13. Write a python program to find the sum of all even numbers between 1 and 50.\n",
    "sum_even = 0\n",
    "for num in range(1,51):\n",
    "    if num % 2 == 0:\n",
    "        sum_even += num\n",
    "        print(sum_even)"
   ]
  },
  {
   "cell_type": "code",
   "execution_count": 8,
   "id": "12604adc-e98a-4488-9159-577e29fbd6a2",
   "metadata": {},
   "outputs": [
    {
     "name": "stdin",
     "output_type": "stream",
     "text": [
      "Enter a string :  Sneha\n"
     ]
    },
    {
     "name": "stdout",
     "output_type": "stream",
     "text": [
      "Reserved string : a\n",
      "Reserved string : ah\n",
      "Reserved string : ahe\n",
      "Reserved string : ahen\n",
      "Reserved string : ahenS\n"
     ]
    }
   ],
   "source": [
    "#14. Write a program to reserve a string using a while loop.\n",
    "string = input(\"Enter a string : \")\n",
    "reserved_string = \"\"\n",
    "index = len(string) - 1\n",
    "while index >= 0:\n",
    "    reserved_string += string[index]\n",
    "    index -= 1\n",
    "    print(\"Reserved string :\", reserved_string)"
   ]
  },
  {
   "cell_type": "code",
   "execution_count": 11,
   "id": "ee579d14-de42-4ef8-b488-cbc0aafa1ea6",
   "metadata": {},
   "outputs": [
    {
     "name": "stdin",
     "output_type": "stream",
     "text": [
      "Enter a number to find its factorial:  5\n"
     ]
    },
    {
     "name": "stdout",
     "output_type": "stream",
     "text": [
      "The factorial of 5 is 120\n"
     ]
    }
   ],
   "source": [
    "#15. Write a python program to calculate a factorial of a number provided by the user using a while loop.\n",
    "num = int(input(\"Enter a number to find its factorial: \"))\n",
    "factorial = 1\n",
    "i = 1\n",
    "if num < 0:\n",
    "    print(\"Factorial does not exist for negative numbers. \")\n",
    "else:\n",
    "    while i <= num:\n",
    "        factorial *= i\n",
    "        i += 1\n",
    "print(f\"The factorial of {num} is {factorial}\") "
   ]
  }
 ],
 "metadata": {
  "kernelspec": {
   "display_name": "Python 3 (ipykernel)",
   "language": "python",
   "name": "python3"
  },
  "language_info": {
   "codemirror_mode": {
    "name": "ipython",
    "version": 3
   },
   "file_extension": ".py",
   "mimetype": "text/x-python",
   "name": "python",
   "nbconvert_exporter": "python",
   "pygments_lexer": "ipython3",
   "version": "3.13.5"
  }
 },
 "nbformat": 4,
 "nbformat_minor": 5
}
