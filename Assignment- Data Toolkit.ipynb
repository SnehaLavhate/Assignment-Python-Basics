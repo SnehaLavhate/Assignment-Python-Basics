{
 "cells": [
  {
   "cell_type": "markdown",
   "id": "74a697ec-8439-4837-91c3-f92da33612ed",
   "metadata": {},
   "source": [
    "# Theory Questions"
   ]
  },
  {
   "cell_type": "markdown",
   "id": "e9f278cf-b419-41c8-b7c9-f86d6a8ca539",
   "metadata": {},
   "source": [
    "1. What is Numpy, and why it is widely used in Python?\n",
    "\n",
    "   * Numpy stands for Numerical Python.\n",
    "   * Numpy is a Python library, it is imported by using import numpy as np.\n",
    "   * Numpy is not by default present in Python, we have to install it using pip install numpy\n",
    "   * Then the import command will run.\n",
    "   * It is widely use to solve numerical databases.\n",
    "   * NumPy is a fundamental library in Python for scientific computing. It offers powerful features for working with multidimensional arrays and performing various mathematical operations efficiently. \n",
    "   * NumPy (Numerical Python) is a homogeneous data it stores only one kind of data in it."
   ]
  },
  {
   "cell_type": "markdown",
   "id": "35ddf7af-09c5-4dc9-b675-2afd72c0aeff",
   "metadata": {},
   "source": [
    "2. How does broadcasting work in NumPy?\n",
    "\n",
    "    * Broadcasting is getting the array as all zeros or ones by giving the number of rows and columns.\n",
    "    * The rows and column all will have the values one or zero.\n",
    "    * This is Broadcasting."
   ]
  },
  {
   "cell_type": "markdown",
   "id": "bcf74a44-03ab-4430-8a32-a20d2e9edb17",
   "metadata": {},
   "source": [
    "3. What is a Pandas DataFrame?\n",
    "\n",
    "    * Pandas is a Python library, as Numpy.\n",
    "    * In Pandas, dataframe is made of series(column) , this means the number of column together makes the dataframe."
   ]
  },
  {
   "cell_type": "markdown",
   "id": "93569e7d-6c97-46c6-82e7-edb59c52f99e",
   "metadata": {},
   "source": [
    "4. Explain the use of the groupby() method in Pandas.\n",
    "\n",
    "    * In pandas, when you use groupby() method, you can pass a single column name or multiple column names inside parenthesis.\n",
    "    * The parenthesis method you are referring to usually means grouping by multiple columns by passing them as a list inside the parenthesis."
   ]
  },
  {
   "cell_type": "markdown",
   "id": "8bc74e6f-0d75-4a9b-93b3-a3c9278a7105",
   "metadata": {},
   "source": [
    "5. Why is Seaborn preferred for statistical visualizations?\n",
    "\n",
    "   * Seaborn is preferred for statistical visualization :\n",
    "     * It's easy to use.\n",
    "     * Works well with Pandas.\n",
    "     * It has built-in statistical plots\n",
    "     * It is product attractive visuals by default. "
   ]
  },
  {
   "cell_type": "markdown",
   "id": "950a71ae-fdb0-4b39-9667-f13ab1b8ddf6",
   "metadata": {},
   "source": [
    "6. What are the differences between NumPy arrays and Python lists?\n",
    "\n",
    "    * Numpy array is a container or datastructure used to store data of some data type. It stores homogeneous data - continuous memory location.\n",
    "    * List is a container which can store heterogeneous data "
   ]
  },
  {
   "cell_type": "markdown",
   "id": "25713d47-5884-4ac1-9825-23a17e88ce3e",
   "metadata": {},
   "source": [
    "7. What is a heatmap, and when should it be used?\n",
    "\n",
    "    * Heatmap is a color-coded data visualization where values are represented by color intensity.\n",
    "    * When to use :\n",
    "        * To spot patterns, trends quickly.\n",
    "        * For correlation analysis between variables.\n",
    "        * To show density.\n",
    "        * To make large tables easier to read visually.\n",
    "        * For scientific data. "
   ]
  },
  {
   "cell_type": "markdown",
   "id": "77c76710-7135-4501-8d94-c51cf060ceb2",
   "metadata": {},
   "source": [
    "8. What does the term “vectorized operation” mean in NumPy?\n",
    "\n",
    "    * Vectorized operation allow you to write fast and clean code by applying operations to whole arrays instead of looping through individual elements."
   ]
  },
  {
   "cell_type": "markdown",
   "id": "fb8bbe83-6f24-407c-a498-b1c5cea2c7e5",
   "metadata": {},
   "source": [
    " 9. How does Matplotlib differ from Plotly?\n",
    "\n",
    "    * Matplotlib is the main, plotting library in the Python. It is the full plotting library.\n",
    "    * Plotlib is not an actual separate library, usually just a shortened reference."
   ]
  },
  {
   "cell_type": "markdown",
   "id": "bc6e0f40-cb4e-4558-80e6-490c6d8ceac9",
   "metadata": {},
   "source": [
    "10. What is the significance of hierarchical indexing in Pandas?\n",
    "\n",
    "    * A single level index : One label identifies each row.\n",
    "    * A multi-level index : This is hierarchical index . Each row is identified by multiple lables arranged in levels.\n",
    "    *  Significance :\n",
    "        * Represents higher- dimensional data in 2D form.\n",
    "        * Makes grouped results easier to work with many operators.\n",
    "        * Efficient selection and slicing.\n",
    "        * Organized aggregation results.\n",
    "        * Supports pivot-style layouts without reshaping.  "
   ]
  },
  {
   "cell_type": "markdown",
   "id": "550d183b-59c0-4dba-b843-b374662288da",
   "metadata": {},
   "source": [
    "11. What is the role of Seaborn’s pairplot() function?\n",
    "\n",
    "* Seaborn's pairplot() function creates a grid of plots showing the relationships between all pairs of variables in a dataset, along with their individual distributions."
   ]
  },
  {
   "cell_type": "markdown",
   "id": "3568bcfe-85df-44ce-be41-fe383098fbb3",
   "metadata": {},
   "source": [
    "12. What is the purpose of the describe() function in Pandas?\n",
    "\n",
    "    * describe() - It gives the statiscal information about numerical column."
   ]
  },
  {
   "cell_type": "markdown",
   "id": "03c505cf-47d3-45a1-9d43-7235c9a135f6",
   "metadata": {},
   "source": [
    "13. Why is handling missing data important in Pandas?\n",
    "\n",
    "    * Handling missing data in Pandas is important because it ensures data accuracy,prevents error in analysis, and improves the reliability of statistical results and machine learning models."
   ]
  },
  {
   "cell_type": "markdown",
   "id": "d3f4781e-5a0e-46d6-b677-00c61284e619",
   "metadata": {},
   "source": [
    "14. What are the benefits of using Plotly for data visualization?\n",
    "\n",
    "* Benefits of using Plotly for data visualization :\n",
    "    * Interactive visuals\n",
    "    * Wide chart variety\n",
    "    * Web-friendly\n",
    "    * High-quality graphics\n",
    "    * Easy integration  "
   ]
  },
  {
   "cell_type": "markdown",
   "id": "95ea63a9-cecf-49af-a209-0ae73bd35c26",
   "metadata": {},
   "source": [
    "15. How does NumPy handle multidimensional arrays?\n",
    "\n",
    "    * Numpy handles multidimensional arrays with its powerful nparray structure, allowing to efficiently store, manipulate, and operate the data in 1D,2D,3D and more.\n",
    "    * It uses attributes like .ndim, .shape, .size to manage array structure and supports powerful indexing and broadcasting."
   ]
  },
  {
   "cell_type": "markdown",
   "id": "d7636b28-961c-41f5-a771-1ee1493f8671",
   "metadata": {},
   "source": [
    "16. What is the role of Bokeh in data visualization?\n",
    "\n",
    "* Roles of Bokeh in Data visualization :\n",
    "    * Interactive visuals\n",
    "    * Web ready output\n",
    "    * Handles large datasets\n",
    "    * Supports many chart type\n",
    "    * Python-friendly"
   ]
  },
  {
   "cell_type": "markdown",
   "id": "bdbf9b85-094c-475c-87e7-50b6bdfbf0f1",
   "metadata": {},
   "source": [
    "17. Explain the difference between apply() and map() in Pandas.\n",
    "\n",
    "    * In Pandas, apply() - it is used to apply a function on all the elements/values of a specific column. You can apply user defined function to that column and execute the value.\n",
    "    * map() - It is a similar function, to use this fuction you must use apply before map to execute .\n",
    "        "
   ]
  },
  {
   "cell_type": "markdown",
   "id": "19b8dab3-e7fc-4ce4-89a0-30217aa65471",
   "metadata": {},
   "source": [
    "18. What are some advanced features of NumPy?\n",
    "\n",
    "    * Advanced features of Numpy:\n",
    "        * Broadcasting - Allows arithemetic operations on arrays of different shapes without explicit looping.\n",
    "        * Vectorized Operations - Operates on entire arrays at once.\n",
    "        * boolean Filtering - Allows selecting data based on conditions.\n",
    "        * Advanced indexing and slicing.\n",
    "        * Reshaping and Transposing"
   ]
  },
  {
   "cell_type": "markdown",
   "id": "f4dd8bc4-a6ec-4ee8-940e-0095e6d67ac5",
   "metadata": {},
   "source": [
    "19. How does Pandas simplify time series analysis?\n",
    "\n",
    "    * Pandas simplifies time series analysis by:\n",
    "      \n",
    "      1). Datetime indexing for easy selection and slicing.\n",
    "      \n",
    "      2). Resampling to change time frequency.\n",
    "\n",
    "      3). Shifting/lagging for comparisons.\n",
    "\n",
    "      4). Auto dating\n",
    "\n",
    "      5). Rolling windows for trends.\n",
    "\n",
    "      6). Time zone conversions\n",
    "      "
   ]
  },
  {
   "cell_type": "markdown",
   "id": "3310cdcc-13aa-4ce1-bc69-5900ff0406c2",
   "metadata": {},
   "source": [
    "20. What is the role of a pivot table in Pandas?\n",
    "\n",
    "    * In Pandas, a pivot table is used to summarize, aggregate, and restructure data allowing you to transform rows into columns to make analysis easier."
   ]
  },
  {
   "cell_type": "markdown",
   "id": "5f6be754-e0c8-4740-9c0b-132ff1045e9d",
   "metadata": {},
   "source": [
    "21. Why is NumPy’s array slicing faster than Python’s list slicing?\n",
    "\n",
    "    * Numpy slicing is faster than python list slicing because it uses continueous memory,creates biews insted of copies , and runs in optimized C code, while list slicing copies elements and works in slower Python loops."
   ]
  },
  {
   "cell_type": "markdown",
   "id": "3b93fb6e-23c1-4d5f-ae7e-4b055492818e",
   "metadata": {},
   "source": [
    "22. What are some common use cases for Seaborn?\n",
    "\n",
    "* Common usecases:\n",
    "    * Correlation heatmaps - See relationships between variables.\n",
    "    * Pair plot - Explore pairwise relationship in datasets.\n",
    "    * Categorical plots- Compare groups\n",
    "    * Distribution plots - Visualize data spread\n",
    "    * Regression plots - Fits and visualize linear relationships"
   ]
  },
  {
   "cell_type": "markdown",
   "id": "118143d6-0797-4ec3-abe1-81a7edbfd25c",
   "metadata": {},
   "source": [
    "# Practical"
   ]
  },
  {
   "cell_type": "code",
   "execution_count": 39,
   "id": "0bcce099-7fba-46a0-94e5-8b28fdefaa0b",
   "metadata": {},
   "outputs": [
    {
     "data": {
      "text/plain": [
       "array([5, 7, 9])"
      ]
     },
     "execution_count": 39,
     "metadata": {},
     "output_type": "execute_result"
    }
   ],
   "source": [
    "#1. How do you create a 2D NumPy array and calculate the sum of each row?\n",
    "import numpy as np\n",
    "arr = np.array([[1,2,3],[4,5,6]])\n",
    "for i in arr:\n",
    "    res = sum(arr)\n",
    "res"
   ]
  },
  {
   "cell_type": "code",
   "execution_count": 38,
   "id": "1554b31e-bd5c-4cf1-8ded-1c82bef768f9",
   "metadata": {},
   "outputs": [
    {
     "data": {
      "text/plain": [
       "np.float64(79.0)"
      ]
     },
     "execution_count": 38,
     "metadata": {},
     "output_type": "execute_result"
    }
   ],
   "source": [
    "#2. Write a Pandas script to find the mean of a specific column in a DataFrame.\n",
    "import pandas as pd\n",
    "df = pd.read_csv(\"students_csv.csv\")   #this file is made by self using .csv \n",
    "df[\"English\"].mean()"
   ]
  },
  {
   "cell_type": "code",
   "execution_count": 6,
   "id": "3dcc38ab-85de-4063-86c3-4523f20d5565",
   "metadata": {},
   "outputs": [
    {
     "data": {
      "image/png": "[encoded data removed]",
      "text/plain": [
       "<Figure size 640x480 with 1 Axes>"
      ]
     },
     "metadata": {},
     "output_type": "display_data"
    }
   ],
   "source": [
    "#3. Create a scatter plot using Matplotlib.\n",
    "import matplotlib.pyplot as plt\n",
    "import numpy as np\n",
    "x = np.random.rand(10)\n",
    "y = np.random.rand(10)\n",
    "plt.scatter(x,y,color = \"Orange\")\n",
    "plt.show()"
   ]
  },
  {
   "cell_type": "code",
   "execution_count": 35,
   "id": "a12a3793-256a-4c96-8ae9-809b1b3466d0",
   "metadata": {},
   "outputs": [
    {
     "name": "stdout",
     "output_type": "stream",
     "text": [
      "Correlation matrix : \n",
      "            Maths   English   Science\n",
      "Maths    1.000000  0.498582  0.214382\n",
      "English  0.498582  1.000000 -0.364374\n",
      "Science  0.214382 -0.364374  1.000000\n"
     ]
    },
    {
     "data": {
      "image/png": "[encoded data removed]",
      "text/plain": [
       "<Figure size 600x400 with 2 Axes>"
      ]
     },
     "metadata": {},
     "output_type": "display_data"
    }
   ],
   "source": [
    "#4. How do you calculate the correlation matrix using Seaborn and visualize it with a heatmap?\n",
    "import pandas as pd\n",
    "import seaborn as sns\n",
    "import matplotlib.pyplot as plt\n",
    "data = {\"Maths\":[85,90,72,45,64],\n",
    "        \"English\":[76,89,65,71,43],\n",
    "        \"Science\":[56,87,67,57,96]}\n",
    "df = pd.DataFrame(data)\n",
    "corr_matrix = df.corr()\n",
    "print(\"Correlation matrix : \")\n",
    "print(corr_matrix)\n",
    "plt.figure(figsize=(6,4))\n",
    "sns.heatmap(corr_matrix, annot = True,cmap = \"coolwarm\",linewidth = 0.5)\n",
    "plt.title(\"Correlation Heatmap \")\n",
    "plt.show()"
   ]
  },
  {
   "cell_type": "code",
   "execution_count": 1,
   "id": "78782041-11ef-49d3-a4d1-aab0774266db",
   "metadata": {},
   "outputs": [],
   "source": [
    "#5.Generate a bar plot using Plotly.\n",
    "import plotly.graph_objects as go\n",
    "import plotly.express as px"
   ]
  },
  {
   "cell_type": "code",
   "execution_count": 38,
   "id": "6679a8b8-654d-4d44-9400-ec0e48a7ea96",
   "metadata": {},
   "outputs": [
    {
     "data": {
      "application/vnd.plotly.v1+json": {
       "config": {
        "plotlyServerURL": "https://plot.ly"
       },
       "data": [
        {
         "hovertemplate": "x=%{x}<br>y=%{y}<extra></extra>",
         "legendgroup": "",
         "marker": {
          "color": "#636efa",
          "pattern": {
           "shape": ""
          }
         },
         "name": "",
         "orientation": "v",
         "showlegend": false,
         "textposition": "auto",
         "type": "bar",
         "x": {
          "bdata": "AQIDBAU=",
          "dtype": "i1"
         },
         "xaxis": "x",
         "y": {
          "bdata": "AQcGAwI=",
          "dtype": "i1"
         },
         "yaxis": "y"
        }
       ],
       "layout": {
        "barmode": "relative",
        "legend": {
         "tracegroupgap": 0
        },
        "margin": {
         "t": 60
        },
        "template": {
         "data": {
          "bar": [
           {
            "error_x": {
             "color": "#2a3f5f"
            },
            "error_y": {
             "color": "#2a3f5f"
            },
            "marker": {
             "line": {
              "color": "#E5ECF6",
              "width": 0.5
             },
             "pattern": {
              "fillmode": "overlay",
              "size": 10,
              "solidity": 0.2
             }
            },
            "type": "bar"
           }
          ],
          "barpolar": [
           {
            "marker": {
             "line": {
              "color": "#E5ECF6",
              "width": 0.5
             },
             "pattern": {
              "fillmode": "overlay",
              "size": 10,
              "solidity": 0.2
             }
            },
            "type": "barpolar"
           }
          ],
          "carpet": [
           {
            "aaxis": {
             "endlinecolor": "#2a3f5f",
             "gridcolor": "white",
             "linecolor": "white",
             "minorgridcolor": "white",
             "startlinecolor": "#2a3f5f"
            },
            "baxis": {
             "endlinecolor": "#2a3f5f",
             "gridcolor": "white",
             "linecolor": "white",
             "minorgridcolor": "white",
             "startlinecolor": "#2a3f5f"
            },
            "type": "carpet"
           }
          ],
          "choropleth": [
           {
            "colorbar": {
             "outlinewidth": 0,
             "ticks": ""
            },
            "type": "choropleth"
           }
          ],
          "contour": [
           {
            "colorbar": {
             "outlinewidth": 0,
             "ticks": ""
            },
            "colorscale": [
             [
              0,
              "#0d0887"
             ],
             [
              0.1111111111111111,
              "#46039f"
             ],
             [
              0.2222222222222222,
              "#7201a8"
             ],
             [
              0.3333333333333333,
              "#9c179e"
             ],
             [
              0.4444444444444444,
              "#bd3786"
             ],
             [
              0.5555555555555556,
              "#d8576b"
             ],
             [
              0.6666666666666666,
              "#ed7953"
             ],
             [
              0.7777777777777778,
              "#fb9f3a"
             ],
             [
              0.8888888888888888,
              "#fdca26"
             ],
             [
              1,
              "#f0f921"
             ]
            ],
            "type": "contour"
           }
          ],
          "contourcarpet": [
           {
            "colorbar": {
             "outlinewidth": 0,
             "ticks": ""
            },
            "type": "contourcarpet"
           }
          ],
          "heatmap": [
           {
            "colorbar": {
             "outlinewidth": 0,
             "ticks": ""
            },
            "colorscale": [
             [
              0,
              "#0d0887"
             ],
             [
              0.1111111111111111,
              "#46039f"
             ],
             [
              0.2222222222222222,
              "#7201a8"
             ],
             [
              0.3333333333333333,
              "#9c179e"
             ],
             [
              0.4444444444444444,
              "#bd3786"
             ],
             [
              0.5555555555555556,
              "#d8576b"
             ],
             [
              0.6666666666666666,
              "#ed7953"
             ],
             [
              0.7777777777777778,
              "#fb9f3a"
             ],
             [
              0.8888888888888888,
              "#fdca26"
             ],
             [
              1,
              "#f0f921"
             ]
            ],
            "type": "heatmap"
           }
          ],
          "histogram": [
           {
            "marker": {
             "pattern": {
              "fillmode": "overlay",
              "size": 10,
              "solidity": 0.2
             }
            },
            "type": "histogram"
           }
          ],
          "histogram2d": [
           {
            "colorbar": {
             "outlinewidth": 0,
             "ticks": ""
            },
            "colorscale": [
             [
              0,
              "#0d0887"
             ],
             [
              0.1111111111111111,
              "#46039f"
             ],
             [
              0.2222222222222222,
              "#7201a8"
             ],
             [
              0.3333333333333333,
              "#9c179e"
             ],
             [
              0.4444444444444444,
              "#bd3786"
             ],
             [
              0.5555555555555556,
              "#d8576b"
             ],
             [
              0.6666666666666666,
              "#ed7953"
             ],
             [
              0.7777777777777778,
              "#fb9f3a"
             ],
             [
              0.8888888888888888,
              "#fdca26"
             ],
             [
              1,
              "#f0f921"
             ]
            ],
            "type": "histogram2d"
           }
          ],
          "histogram2dcontour": [
           {
            "colorbar": {
             "outlinewidth": 0,
             "ticks": ""
            },
            "colorscale": [
             [
              0,
              "#0d0887"
             ],
             [
              0.1111111111111111,
              "#46039f"
             ],
             [
              0.2222222222222222,
              "#7201a8"
             ],
             [
              0.3333333333333333,
              "#9c179e"
             ],
             [
              0.4444444444444444,
              "#bd3786"
             ],
             [
              0.5555555555555556,
              "#d8576b"
             ],
             [
              0.6666666666666666,
              "#ed7953"
             ],
             [
              0.7777777777777778,
              "#fb9f3a"
             ],
             [
              0.8888888888888888,
              "#fdca26"
             ],
             [
              1,
              "#f0f921"
             ]
            ],
            "type": "histogram2dcontour"
           }
          ],
          "mesh3d": [
           {
            "colorbar": {
             "outlinewidth": 0,
             "ticks": ""
            },
            "type": "mesh3d"
           }
          ],
          "parcoords": [
           {
            "line": {
             "colorbar": {
              "outlinewidth": 0,
              "ticks": ""
             }
            },
            "type": "parcoords"
           }
          ],
          "pie": [
           {
            "automargin": true,
            "type": "pie"
           }
          ],
          "scatter": [
           {
            "fillpattern": {
             "fillmode": "overlay",
             "size": 10,
             "solidity": 0.2
            },
            "type": "scatter"
           }
          ],
          "scatter3d": [
           {
            "line": {
             "colorbar": {
              "outlinewidth": 0,
              "ticks": ""
             }
            },
            "marker": {
             "colorbar": {
              "outlinewidth": 0,
              "ticks": ""
             }
            },
            "type": "scatter3d"
           }
          ],
          "scattercarpet": [
           {
            "marker": {
             "colorbar": {
              "outlinewidth": 0,
              "ticks": ""
             }
            },
            "type": "scattercarpet"
           }
          ],
          "scattergeo": [
           {
            "marker": {
             "colorbar": {
              "outlinewidth": 0,
              "ticks": ""
             }
            },
            "type": "scattergeo"
           }
          ],
          "scattergl": [
           {
            "marker": {
             "colorbar": {
              "outlinewidth": 0,
              "ticks": ""
             }
            },
            "type": "scattergl"
           }
          ],
          "scattermap": [
           {
            "marker": {
             "colorbar": {
              "outlinewidth": 0,
              "ticks": ""
             }
            },
            "type": "scattermap"
           }
          ],
          "scattermapbox": [
           {
            "marker": {
             "colorbar": {
              "outlinewidth": 0,
              "ticks": ""
             }
            },
            "type": "scattermapbox"
           }
          ],
          "scatterpolar": [
           {
            "marker": {
             "colorbar": {
              "outlinewidth": 0,
              "ticks": ""
             }
            },
            "type": "scatterpolar"
           }
          ],
          "scatterpolargl": [
           {
            "marker": {
             "colorbar": {
              "outlinewidth": 0,
              "ticks": ""
             }
            },
            "type": "scatterpolargl"
           }
          ],
          "scatterternary": [
           {
            "marker": {
             "colorbar": {
              "outlinewidth": 0,
              "ticks": ""
             }
            },
            "type": "scatterternary"
           }
          ],
          "surface": [
           {
            "colorbar": {
             "outlinewidth": 0,
             "ticks": ""
            },
            "colorscale": [
             [
              0,
              "#0d0887"
             ],
             [
              0.1111111111111111,
              "#46039f"
             ],
             [
              0.2222222222222222,
              "#7201a8"
             ],
             [
              0.3333333333333333,
              "#9c179e"
             ],
             [
              0.4444444444444444,
              "#bd3786"
             ],
             [
              0.5555555555555556,
              "#d8576b"
             ],
             [
              0.6666666666666666,
              "#ed7953"
             ],
             [
              0.7777777777777778,
              "#fb9f3a"
             ],
             [
              0.8888888888888888,
              "#fdca26"
             ],
             [
              1,
              "#f0f921"
             ]
            ],
            "type": "surface"
           }
          ],
          "table": [
           {
            "cells": {
             "fill": {
              "color": "#EBF0F8"
             },
             "line": {
              "color": "white"
             }
            },
            "header": {
             "fill": {
              "color": "#C8D4E3"
             },
             "line": {
              "color": "white"
             }
            },
            "type": "table"
           }
          ]
         },
         "layout": {
          "annotationdefaults": {
           "arrowcolor": "#2a3f5f",
           "arrowhead": 0,
           "arrowwidth": 1
          },
          "autotypenumbers": "strict",
          "coloraxis": {
           "colorbar": {
            "outlinewidth": 0,
            "ticks": ""
           }
          },
          "colorscale": {
           "diverging": [
            [
             0,
             "#8e0152"
            ],
            [
             0.1,
             "#c51b7d"
            ],
            [
             0.2,
             "#de77ae"
            ],
            [
             0.3,
             "#f1b6da"
            ],
            [
             0.4,
             "#fde0ef"
            ],
            [
             0.5,
             "#f7f7f7"
            ],
            [
             0.6,
             "#e6f5d0"
            ],
            [
             0.7,
             "#b8e186"
            ],
            [
             0.8,
             "#7fbc41"
            ],
            [
             0.9,
             "#4d9221"
            ],
            [
             1,
             "#276419"
            ]
           ],
           "sequential": [
            [
             0,
             "#0d0887"
            ],
            [
             0.1111111111111111,
             "#46039f"
            ],
            [
             0.2222222222222222,
             "#7201a8"
            ],
            [
             0.3333333333333333,
             "#9c179e"
            ],
            [
             0.4444444444444444,
             "#bd3786"
            ],
            [
             0.5555555555555556,
             "#d8576b"
            ],
            [
             0.6666666666666666,
             "#ed7953"
            ],
            [
             0.7777777777777778,
             "#fb9f3a"
            ],
            [
             0.8888888888888888,
             "#fdca26"
            ],
            [
             1,
             "#f0f921"
            ]
           ],
           "sequentialminus": [
            [
             0,
             "#0d0887"
            ],
            [
             0.1111111111111111,
             "#46039f"
            ],
            [
             0.2222222222222222,
             "#7201a8"
            ],
            [
             0.3333333333333333,
             "#9c179e"
            ],
            [
             0.4444444444444444,
             "#bd3786"
            ],
            [
             0.5555555555555556,
             "#d8576b"
            ],
            [
             0.6666666666666666,
             "#ed7953"
            ],
            [
             0.7777777777777778,
             "#fb9f3a"
            ],
            [
             0.8888888888888888,
             "#fdca26"
            ],
            [
             1,
             "#f0f921"
            ]
           ]
          },
          "colorway": [
           "#636efa",
           "#EF553B",
           "#00cc96",
           "#ab63fa",
           "#FFA15A",
           "#19d3f3",
           "#FF6692",
           "#B6E880",
           "#FF97FF",
           "#FECB52"
          ],
          "font": {
           "color": "#2a3f5f"
          },
          "geo": {
           "bgcolor": "white",
           "lakecolor": "white",
           "landcolor": "#E5ECF6",
           "showlakes": true,
           "showland": true,
           "subunitcolor": "white"
          },
          "hoverlabel": {
           "align": "left"
          },
          "hovermode": "closest",
          "mapbox": {
           "style": "light"
          },
          "paper_bgcolor": "white",
          "plot_bgcolor": "#E5ECF6",
          "polar": {
           "angularaxis": {
            "gridcolor": "white",
            "linecolor": "white",
            "ticks": ""
           },
           "bgcolor": "#E5ECF6",
           "radialaxis": {
            "gridcolor": "white",
            "linecolor": "white",
            "ticks": ""
           }
          },
          "scene": {
           "xaxis": {
            "backgroundcolor": "#E5ECF6",
            "gridcolor": "white",
            "gridwidth": 2,
            "linecolor": "white",
            "showbackground": true,
            "ticks": "",
            "zerolinecolor": "white"
           },
           "yaxis": {
            "backgroundcolor": "#E5ECF6",
            "gridcolor": "white",
            "gridwidth": 2,
            "linecolor": "white",
            "showbackground": true,
            "ticks": "",
            "zerolinecolor": "white"
           },
           "zaxis": {
            "backgroundcolor": "#E5ECF6",
            "gridcolor": "white",
            "gridwidth": 2,
            "linecolor": "white",
            "showbackground": true,
            "ticks": "",
            "zerolinecolor": "white"
           }
          },
          "shapedefaults": {
           "line": {
            "color": "#2a3f5f"
           }
          },
          "ternary": {
           "aaxis": {
            "gridcolor": "white",
            "linecolor": "white",
            "ticks": ""
           },
           "baxis": {
            "gridcolor": "white",
            "linecolor": "white",
            "ticks": ""
           },
           "bgcolor": "#E5ECF6",
           "caxis": {
            "gridcolor": "white",
            "linecolor": "white",
            "ticks": ""
           }
          },
          "title": {
           "x": 0.05
          },
          "xaxis": {
           "automargin": true,
           "gridcolor": "white",
           "linecolor": "white",
           "ticks": "",
           "title": {
            "standoff": 15
           },
           "zerolinecolor": "white",
           "zerolinewidth": 2
          },
          "yaxis": {
           "automargin": true,
           "gridcolor": "white",
           "linecolor": "white",
           "ticks": "",
           "title": {
            "standoff": 15
           },
           "zerolinecolor": "white",
           "zerolinewidth": 2
          }
         }
        },
        "xaxis": {
         "anchor": "y",
         "domain": [
          0,
          1
         ],
         "title": {
          "text": "x"
         }
        },
        "yaxis": {
         "anchor": "x",
         "domain": [
          0,
          1
         ],
         "title": {
          "text": "y"
         }
        }
       }
      },
      "image/png": "[encoded data removed]"
     },
     "metadata": {},
     "output_type": "display_data"
    }
   ],
   "source": [
    "x = [1,2,3,4,5]      #This is using express module of plotly\n",
    "y=[1,7,6,3,2]\n",
    "fig = px.bar(x=x,y=y)\n",
    "fig.show()"
   ]
  },
  {
   "cell_type": "code",
   "execution_count": 10,
   "id": "60d6baca-f828-4a21-971d-feb63965141b",
   "metadata": {},
   "outputs": [],
   "source": [
    "#6. Create a DataFrame and add a new column based on an existing column.\n",
    "df1= pd.DataFrame({\"Name\":[\"Sneha\",\"Shital\",\"Priyanka\"],\n",
    "              \"Age\" :[21,42,23],\n",
    "              \"Work\":[\" Graduate\",\" Business Women\",\" Post-Graduation\"]})"
   ]
  },
  {
   "cell_type": "code",
   "execution_count": 11,
   "id": "507718f2-61ce-48f4-b3f8-fe2c3125e4f0",
   "metadata": {},
   "outputs": [
    {
     "data": {
      "text/html": [
       "<div>\n",
       "<style scoped>\n",
       "    .dataframe tbody tr th:only-of-type {\n",
       "        vertical-align: middle;\n",
       "    }\n",
       "\n",
       "    .dataframe tbody tr th {\n",
       "        vertical-align: top;\n",
       "    }\n",
       "\n",
       "    .dataframe thead th {\n",
       "        text-align: right;\n",
       "    }\n",
       "</style>\n",
       "<table border=\"1\" class=\"dataframe\">\n",
       "  <thead>\n",
       "    <tr style=\"text-align: right;\">\n",
       "      <th></th>\n",
       "      <th>Name</th>\n",
       "      <th>Age</th>\n",
       "      <th>Work</th>\n",
       "      <th>New_column</th>\n",
       "    </tr>\n",
       "  </thead>\n",
       "  <tbody>\n",
       "    <tr>\n",
       "      <th>0</th>\n",
       "      <td>Sneha</td>\n",
       "      <td>21</td>\n",
       "      <td>Graduate</td>\n",
       "      <td>Sneha Graduate</td>\n",
       "    </tr>\n",
       "    <tr>\n",
       "      <th>1</th>\n",
       "      <td>Shital</td>\n",
       "      <td>42</td>\n",
       "      <td>Business Women</td>\n",
       "      <td>Shital Business Women</td>\n",
       "    </tr>\n",
       "    <tr>\n",
       "      <th>2</th>\n",
       "      <td>Priyanka</td>\n",
       "      <td>23</td>\n",
       "      <td>Post-Graduation</td>\n",
       "      <td>Priyanka Post-Graduation</td>\n",
       "    </tr>\n",
       "  </tbody>\n",
       "</table>\n",
       "</div>"
      ],
      "text/plain": [
       "       Name  Age              Work                New_column\n",
       "0     Sneha   21          Graduate            Sneha Graduate\n",
       "1    Shital   42    Business Women     Shital Business Women\n",
       "2  Priyanka   23   Post-Graduation  Priyanka Post-Graduation"
      ]
     },
     "execution_count": 11,
     "metadata": {},
     "output_type": "execute_result"
    }
   ],
   "source": [
    "df1[\"New_column\"] = df1[\"Name\"]+ df1[\"Work\"]\n",
    "df1"
   ]
  },
  {
   "cell_type": "code",
   "execution_count": 26,
   "id": "f14bcd0c-55df-4e29-985c-025165a84f56",
   "metadata": {},
   "outputs": [
    {
     "data": {
      "text/plain": [
       "array([ 4, 10, 18])"
      ]
     },
     "execution_count": 26,
     "metadata": {},
     "output_type": "execute_result"
    }
   ],
   "source": [
    "#7.Write a program to perform element-wise multiplication of two NumPy arrays.\n",
    "import numpy as np\n",
    "arr1 = np.array([1,2,3])\n",
    "arr2 = np.array([4,5,6])\n",
    "arr1*arr2"
   ]
  },
  {
   "cell_type": "code",
   "execution_count": 28,
   "id": "421dde96-dd96-4029-b74b-5c2e310c9089",
   "metadata": {},
   "outputs": [
    {
     "data": {
      "image/png": "[encoded data removed]",
      "text/plain": [
       "<Figure size 640x480 with 1 Axes>"
      ]
     },
     "metadata": {},
     "output_type": "display_data"
    }
   ],
   "source": [
    "#8. Create a line plot with multiple lines using Matplotlib.\n",
    "x = [5,10,15,20,25]\n",
    "y1 = [4,8,12,16,26]\n",
    "y2 = [6.7,12.4,22,17.1,24]\n",
    "plt.plot(x,y1,color =\"Blue\",label = \"Represents y1\",marker = \"o\")\n",
    "plt.plot(x,y2,color =\"yellow\", label = \"Represents y2\", marker = \"o\")\n",
    "plt.title(\"Plotting of points\")\n",
    "plt.xlabel(\"x axis\")\n",
    "plt.ylabel(\"y axis\")\n",
    "\n",
    "plt.legend()\n",
    "plt.show()"
   ]
  },
  {
   "cell_type": "code",
   "execution_count": 24,
   "id": "dc0826fe-6675-4b01-b80a-5c4b86d946ab",
   "metadata": {},
   "outputs": [
    {
     "name": "stdout",
     "output_type": "stream",
     "text": [
      "Original DataFrame :\n",
      "       Name  Score\n",
      "0     Sneha     88\n",
      "1    Shital     92\n",
      "2  Priyanka     80\n",
      "3     Suhas     76\n",
      "\n",
      "Filtered DataFrame ( Score>80) : \n",
      "     Name  Score\n",
      "0   Sneha     88\n",
      "1  Shital     92\n"
     ]
    }
   ],
   "source": [
    "#9. Generate a Pandas DataFrame and filter rows where a column value is greater than a threshold.\n",
    "import pandas as pd\n",
    "data = {\"Name\":[\"Sneha\",\"Shital\",\"Priyanka\",\"Suhas\"],\n",
    "                      \"Score\" :[88,92,80,76]}\n",
    "df2 = pd.DataFrame(data)\n",
    "print(\"Original DataFrame :\")\n",
    "print(df2)\n",
    "threshold = 80\n",
    "filtered_df2 = df2[df2[\"Score\"]>threshold]\n",
    "print(\"\\nFiltered DataFrame ( Score>80) : \")\n",
    "print(filtered_df2)"
   ]
  },
  {
   "cell_type": "code",
   "execution_count": 27,
   "id": "eeb1b43f-bd13-4e61-8590-405aad311626",
   "metadata": {},
   "outputs": [
    {
     "data": {
      "image/png": "[encoded data removed]",
      "text/plain": [
       "<Figure size 640x480 with 1 Axes>"
      ]
     },
     "metadata": {},
     "output_type": "display_data"
    }
   ],
   "source": [
    "#10. Create a histogram using Seaborn to visualize a distribution.\n",
    "import seaborn as sns\n",
    "import matplotlib.pyplot as plt\n",
    "data = {\"Name\":[\"Sneha\",\"Shital\",\"Priyanka\",\"Suhas\"],\n",
    "                      \"Score\" :[88,92,80,76]}\n",
    "df = pd.DataFrame(data)\n",
    "sns.histplot(df[\"Score\"], color = \"skyblue\")\n",
    "plt.xlabel(\"Score of Students\")\n",
    "plt.ylabel(\"Frequency\")\n",
    "plt.title(\"Distribution of Scores\")\n",
    "plt.show()"
   ]
  },
  {
   "cell_type": "code",
   "execution_count": 34,
   "id": "d3a96d50-4625-4be3-998c-c2d65dbf107e",
   "metadata": {},
   "outputs": [
    {
     "data": {
      "text/plain": [
       "np.int64(32)"
      ]
     },
     "execution_count": 34,
     "metadata": {},
     "output_type": "execute_result"
    }
   ],
   "source": [
    "#11. Perform matrix multiplication using NumPy.\n",
    "arr1 = np.array([1,2,3])\n",
    "arr2 = np.array([4,5,6])\n",
    "arr1@arr2         # @ is used for matrix multiplication also np.dot(var1,var2) is used."
   ]
  },
  {
   "cell_type": "code",
   "execution_count": 36,
   "id": "37a570f0-c0a5-462e-825a-fcb5c0b5a477",
   "metadata": {},
   "outputs": [
    {
     "data": {
      "text/html": [
       "<div>\n",
       "<style scoped>\n",
       "    .dataframe tbody tr th:only-of-type {\n",
       "        vertical-align: middle;\n",
       "    }\n",
       "\n",
       "    .dataframe tbody tr th {\n",
       "        vertical-align: top;\n",
       "    }\n",
       "\n",
       "    .dataframe thead th {\n",
       "        text-align: right;\n",
       "    }\n",
       "</style>\n",
       "<table border=\"1\" class=\"dataframe\">\n",
       "  <thead>\n",
       "    <tr style=\"text-align: right;\">\n",
       "      <th></th>\n",
       "      <th>Name</th>\n",
       "      <th>Maths</th>\n",
       "      <th>English</th>\n",
       "      <th>History</th>\n",
       "      <th>Science</th>\n",
       "    </tr>\n",
       "  </thead>\n",
       "  <tbody>\n",
       "    <tr>\n",
       "      <th>0</th>\n",
       "      <td>Sneha</td>\n",
       "      <td>78</td>\n",
       "      <td>95</td>\n",
       "      <td>85</td>\n",
       "      <td>89</td>\n",
       "    </tr>\n",
       "    <tr>\n",
       "      <th>1</th>\n",
       "      <td>Diksha</td>\n",
       "      <td>76</td>\n",
       "      <td>89</td>\n",
       "      <td>86</td>\n",
       "      <td>79</td>\n",
       "    </tr>\n",
       "    <tr>\n",
       "      <th>2</th>\n",
       "      <td>Priyanka</td>\n",
       "      <td>77</td>\n",
       "      <td>91</td>\n",
       "      <td>67</td>\n",
       "      <td>55</td>\n",
       "    </tr>\n",
       "    <tr>\n",
       "      <th>3</th>\n",
       "      <td>Suhas</td>\n",
       "      <td>56</td>\n",
       "      <td>45</td>\n",
       "      <td>88</td>\n",
       "      <td>75</td>\n",
       "    </tr>\n",
       "    <tr>\n",
       "      <th>4</th>\n",
       "      <td>Shital</td>\n",
       "      <td>91</td>\n",
       "      <td>93</td>\n",
       "      <td>96</td>\n",
       "      <td>97</td>\n",
       "    </tr>\n",
       "  </tbody>\n",
       "</table>\n",
       "</div>"
      ],
      "text/plain": [
       "       Name  Maths  English  History  Science\n",
       "0     Sneha     78       95       85       89\n",
       "1    Diksha     76       89       86       79\n",
       "2  Priyanka     77       91       67       55\n",
       "3     Suhas     56       45       88       75\n",
       "4    Shital     91       93       96       97"
      ]
     },
     "execution_count": 36,
     "metadata": {},
     "output_type": "execute_result"
    }
   ],
   "source": [
    "#12. Use Pandas to load a CSV file and display its first 5 rows.\n",
    "data = pd.read_csv(\"students_csv.csv\")\n",
    "data.head()      # .head() shows the first five rows by default "
   ]
  },
  {
   "cell_type": "code",
   "execution_count": 33,
   "id": "72047123-1350-4012-af5c-c6d39305dfd9",
   "metadata": {},
   "outputs": [
    {
     "data": {
      "application/vnd.plotly.v1+json": {
       "config": {
        "plotlyServerURL": "https://plot.ly"
       },
       "data": [
        {
         "type": "scatter3d",
         "x": [
          5,
          10,
          15,
          20,
          25
         ],
         "y": [
          4,
          8,
          12,
          16,
          26
         ],
         "z": [
          6,
          12,
          22,
          17,
          24
         ]
        }
       ],
       "layout": {
        "template": {
         "data": {
          "bar": [
           {
            "error_x": {
             "color": "#2a3f5f"
            },
            "error_y": {
             "color": "#2a3f5f"
            },
            "marker": {
             "line": {
              "color": "#E5ECF6",
              "width": 0.5
             },
             "pattern": {
              "fillmode": "overlay",
              "size": 10,
              "solidity": 0.2
             }
            },
            "type": "bar"
           }
          ],
          "barpolar": [
           {
            "marker": {
             "line": {
              "color": "#E5ECF6",
              "width": 0.5
             },
             "pattern": {
              "fillmode": "overlay",
              "size": 10,
              "solidity": 0.2
             }
            },
            "type": "barpolar"
           }
          ],
          "carpet": [
           {
            "aaxis": {
             "endlinecolor": "#2a3f5f",
             "gridcolor": "white",
             "linecolor": "white",
             "minorgridcolor": "white",
             "startlinecolor": "#2a3f5f"
            },
            "baxis": {
             "endlinecolor": "#2a3f5f",
             "gridcolor": "white",
             "linecolor": "white",
             "minorgridcolor": "white",
             "startlinecolor": "#2a3f5f"
            },
            "type": "carpet"
           }
          ],
          "choropleth": [
           {
            "colorbar": {
             "outlinewidth": 0,
             "ticks": ""
            },
            "type": "choropleth"
           }
          ],
          "contour": [
           {
            "colorbar": {
             "outlinewidth": 0,
             "ticks": ""
            },
            "colorscale": [
             [
              0,
              "#0d0887"
             ],
             [
              0.1111111111111111,
              "#46039f"
             ],
             [
              0.2222222222222222,
              "#7201a8"
             ],
             [
              0.3333333333333333,
              "#9c179e"
             ],
             [
              0.4444444444444444,
              "#bd3786"
             ],
             [
              0.5555555555555556,
              "#d8576b"
             ],
             [
              0.6666666666666666,
              "#ed7953"
             ],
             [
              0.7777777777777778,
              "#fb9f3a"
             ],
             [
              0.8888888888888888,
              "#fdca26"
             ],
             [
              1,
              "#f0f921"
             ]
            ],
            "type": "contour"
           }
          ],
          "contourcarpet": [
           {
            "colorbar": {
             "outlinewidth": 0,
             "ticks": ""
            },
            "type": "contourcarpet"
           }
          ],
          "heatmap": [
           {
            "colorbar": {
             "outlinewidth": 0,
             "ticks": ""
            },
            "colorscale": [
             [
              0,
              "#0d0887"
             ],
             [
              0.1111111111111111,
              "#46039f"
             ],
             [
              0.2222222222222222,
              "#7201a8"
             ],
             [
              0.3333333333333333,
              "#9c179e"
             ],
             [
              0.4444444444444444,
              "#bd3786"
             ],
             [
              0.5555555555555556,
              "#d8576b"
             ],
             [
              0.6666666666666666,
              "#ed7953"
             ],
             [
              0.7777777777777778,
              "#fb9f3a"
             ],
             [
              0.8888888888888888,
              "#fdca26"
             ],
             [
              1,
              "#f0f921"
             ]
            ],
            "type": "heatmap"
           }
          ],
          "histogram": [
           {
            "marker": {
             "pattern": {
              "fillmode": "overlay",
              "size": 10,
              "solidity": 0.2
             }
            },
            "type": "histogram"
           }
          ],
          "histogram2d": [
           {
            "colorbar": {
             "outlinewidth": 0,
             "ticks": ""
            },
            "colorscale": [
             [
              0,
              "#0d0887"
             ],
             [
              0.1111111111111111,
              "#46039f"
             ],
             [
              0.2222222222222222,
              "#7201a8"
             ],
             [
              0.3333333333333333,
              "#9c179e"
             ],
             [
              0.4444444444444444,
              "#bd3786"
             ],
             [
              0.5555555555555556,
              "#d8576b"
             ],
             [
              0.6666666666666666,
              "#ed7953"
             ],
             [
              0.7777777777777778,
              "#fb9f3a"
             ],
             [
              0.8888888888888888,
              "#fdca26"
             ],
             [
              1,
              "#f0f921"
             ]
            ],
            "type": "histogram2d"
           }
          ],
          "histogram2dcontour": [
           {
            "colorbar": {
             "outlinewidth": 0,
             "ticks": ""
            },
            "colorscale": [
             [
              0,
              "#0d0887"
             ],
             [
              0.1111111111111111,
              "#46039f"
             ],
             [
              0.2222222222222222,
              "#7201a8"
             ],
             [
              0.3333333333333333,
              "#9c179e"
             ],
             [
              0.4444444444444444,
              "#bd3786"
             ],
             [
              0.5555555555555556,
              "#d8576b"
             ],
             [
              0.6666666666666666,
              "#ed7953"
             ],
             [
              0.7777777777777778,
              "#fb9f3a"
             ],
             [
              0.8888888888888888,
              "#fdca26"
             ],
             [
              1,
              "#f0f921"
             ]
            ],
            "type": "histogram2dcontour"
           }
          ],
          "mesh3d": [
           {
            "colorbar": {
             "outlinewidth": 0,
             "ticks": ""
            },
            "type": "mesh3d"
           }
          ],
          "parcoords": [
           {
            "line": {
             "colorbar": {
              "outlinewidth": 0,
              "ticks": ""
             }
            },
            "type": "parcoords"
           }
          ],
          "pie": [
           {
            "automargin": true,
            "type": "pie"
           }
          ],
          "scatter": [
           {
            "fillpattern": {
             "fillmode": "overlay",
             "size": 10,
             "solidity": 0.2
            },
            "type": "scatter"
           }
          ],
          "scatter3d": [
           {
            "line": {
             "colorbar": {
              "outlinewidth": 0,
              "ticks": ""
             }
            },
            "marker": {
             "colorbar": {
              "outlinewidth": 0,
              "ticks": ""
             }
            },
            "type": "scatter3d"
           }
          ],
          "scattercarpet": [
           {
            "marker": {
             "colorbar": {
              "outlinewidth": 0,
              "ticks": ""
             }
            },
            "type": "scattercarpet"
           }
          ],
          "scattergeo": [
           {
            "marker": {
             "colorbar": {
              "outlinewidth": 0,
              "ticks": ""
             }
            },
            "type": "scattergeo"
           }
          ],
          "scattergl": [
           {
            "marker": {
             "colorbar": {
              "outlinewidth": 0,
              "ticks": ""
             }
            },
            "type": "scattergl"
           }
          ],
          "scattermap": [
           {
            "marker": {
             "colorbar": {
              "outlinewidth": 0,
              "ticks": ""
             }
            },
            "type": "scattermap"
           }
          ],
          "scattermapbox": [
           {
            "marker": {
             "colorbar": {
              "outlinewidth": 0,
              "ticks": ""
             }
            },
            "type": "scattermapbox"
           }
          ],
          "scatterpolar": [
           {
            "marker": {
             "colorbar": {
              "outlinewidth": 0,
              "ticks": ""
             }
            },
            "type": "scatterpolar"
           }
          ],
          "scatterpolargl": [
           {
            "marker": {
             "colorbar": {
              "outlinewidth": 0,
              "ticks": ""
             }
            },
            "type": "scatterpolargl"
           }
          ],
          "scatterternary": [
           {
            "marker": {
             "colorbar": {
              "outlinewidth": 0,
              "ticks": ""
             }
            },
            "type": "scatterternary"
           }
          ],
          "surface": [
           {
            "colorbar": {
             "outlinewidth": 0,
             "ticks": ""
            },
            "colorscale": [
             [
              0,
              "#0d0887"
             ],
             [
              0.1111111111111111,
              "#46039f"
             ],
             [
              0.2222222222222222,
              "#7201a8"
             ],
             [
              0.3333333333333333,
              "#9c179e"
             ],
             [
              0.4444444444444444,
              "#bd3786"
             ],
             [
              0.5555555555555556,
              "#d8576b"
             ],
             [
              0.6666666666666666,
              "#ed7953"
             ],
             [
              0.7777777777777778,
              "#fb9f3a"
             ],
             [
              0.8888888888888888,
              "#fdca26"
             ],
             [
              1,
              "#f0f921"
             ]
            ],
            "type": "surface"
           }
          ],
          "table": [
           {
            "cells": {
             "fill": {
              "color": "#EBF0F8"
             },
             "line": {
              "color": "white"
             }
            },
            "header": {
             "fill": {
              "color": "#C8D4E3"
             },
             "line": {
              "color": "white"
             }
            },
            "type": "table"
           }
          ]
         },
         "layout": {
          "annotationdefaults": {
           "arrowcolor": "#2a3f5f",
           "arrowhead": 0,
           "arrowwidth": 1
          },
          "autotypenumbers": "strict",
          "coloraxis": {
           "colorbar": {
            "outlinewidth": 0,
            "ticks": ""
           }
          },
          "colorscale": {
           "diverging": [
            [
             0,
             "#8e0152"
            ],
            [
             0.1,
             "#c51b7d"
            ],
            [
             0.2,
             "#de77ae"
            ],
            [
             0.3,
             "#f1b6da"
            ],
            [
             0.4,
             "#fde0ef"
            ],
            [
             0.5,
             "#f7f7f7"
            ],
            [
             0.6,
             "#e6f5d0"
            ],
            [
             0.7,
             "#b8e186"
            ],
            [
             0.8,
             "#7fbc41"
            ],
            [
             0.9,
             "#4d9221"
            ],
            [
             1,
             "#276419"
            ]
           ],
           "sequential": [
            [
             0,
             "#0d0887"
            ],
            [
             0.1111111111111111,
             "#46039f"
            ],
            [
             0.2222222222222222,
             "#7201a8"
            ],
            [
             0.3333333333333333,
             "#9c179e"
            ],
            [
             0.4444444444444444,
             "#bd3786"
            ],
            [
             0.5555555555555556,
             "#d8576b"
            ],
            [
             0.6666666666666666,
             "#ed7953"
            ],
            [
             0.7777777777777778,
             "#fb9f3a"
            ],
            [
             0.8888888888888888,
             "#fdca26"
            ],
            [
             1,
             "#f0f921"
            ]
           ],
           "sequentialminus": [
            [
             0,
             "#0d0887"
            ],
            [
             0.1111111111111111,
             "#46039f"
            ],
            [
             0.2222222222222222,
             "#7201a8"
            ],
            [
             0.3333333333333333,
             "#9c179e"
            ],
            [
             0.4444444444444444,
             "#bd3786"
            ],
            [
             0.5555555555555556,
             "#d8576b"
            ],
            [
             0.6666666666666666,
             "#ed7953"
            ],
            [
             0.7777777777777778,
             "#fb9f3a"
            ],
            [
             0.8888888888888888,
             "#fdca26"
            ],
            [
             1,
             "#f0f921"
            ]
           ]
          },
          "colorway": [
           "#636efa",
           "#EF553B",
           "#00cc96",
           "#ab63fa",
           "#FFA15A",
           "#19d3f3",
           "#FF6692",
           "#B6E880",
           "#FF97FF",
           "#FECB52"
          ],
          "font": {
           "color": "#2a3f5f"
          },
          "geo": {
           "bgcolor": "white",
           "lakecolor": "white",
           "landcolor": "#E5ECF6",
           "showlakes": true,
           "showland": true,
           "subunitcolor": "white"
          },
          "hoverlabel": {
           "align": "left"
          },
          "hovermode": "closest",
          "mapbox": {
           "style": "light"
          },
          "paper_bgcolor": "white",
          "plot_bgcolor": "#E5ECF6",
          "polar": {
           "angularaxis": {
            "gridcolor": "white",
            "linecolor": "white",
            "ticks": ""
           },
           "bgcolor": "#E5ECF6",
           "radialaxis": {
            "gridcolor": "white",
            "linecolor": "white",
            "ticks": ""
           }
          },
          "scene": {
           "xaxis": {
            "backgroundcolor": "#E5ECF6",
            "gridcolor": "white",
            "gridwidth": 2,
            "linecolor": "white",
            "showbackground": true,
            "ticks": "",
            "zerolinecolor": "white"
           },
           "yaxis": {
            "backgroundcolor": "#E5ECF6",
            "gridcolor": "white",
            "gridwidth": 2,
            "linecolor": "white",
            "showbackground": true,
            "ticks": "",
            "zerolinecolor": "white"
           },
           "zaxis": {
            "backgroundcolor": "#E5ECF6",
            "gridcolor": "white",
            "gridwidth": 2,
            "linecolor": "white",
            "showbackground": true,
            "ticks": "",
            "zerolinecolor": "white"
           }
          },
          "shapedefaults": {
           "line": {
            "color": "#2a3f5f"
           }
          },
          "ternary": {
           "aaxis": {
            "gridcolor": "white",
            "linecolor": "white",
            "ticks": ""
           },
           "baxis": {
            "gridcolor": "white",
            "linecolor": "white",
            "ticks": ""
           },
           "bgcolor": "#E5ECF6",
           "caxis": {
            "gridcolor": "white",
            "linecolor": "white",
            "ticks": ""
           }
          },
          "title": {
           "x": 0.05
          },
          "xaxis": {
           "automargin": true,
           "gridcolor": "white",
           "linecolor": "white",
           "ticks": "",
           "title": {
            "standoff": 15
           },
           "zerolinecolor": "white",
           "zerolinewidth": 2
          },
          "yaxis": {
           "automargin": true,
           "gridcolor": "white",
           "linecolor": "white",
           "ticks": "",
           "title": {
            "standoff": 15
           },
           "zerolinecolor": "white",
           "zerolinewidth": 2
          }
         }
        }
       }
      },
      "image/png": "[encoded data removed]"
     },
     "metadata": {},
     "output_type": "display_data"
    }
   ],
   "source": [
    "#13. Create a 3D scatter plot using Plotly.\n",
    "import plotly.graph_objects as go\n",
    "x = [5,10,15,20,25]\n",
    "y = [4,8,12,16,26]\n",
    "z = [6,12,22,17,24]\n",
    "fig = go.Figure()\n",
    "fig.add_trace(go.Scatter3d(x = x,y = y, z=z))\n",
    "fig.show()"
   ]
  }
 ],
 "metadata": {
  "kernelspec": {
   "display_name": "Python 3 (ipykernel)",
   "language": "python",
   "name": "python3"
  },
  "language_info": {
   "codemirror_mode": {
    "name": "ipython",
    "version": 3
   },
   "file_extension": ".py",
   "mimetype": "text/x-python",
   "name": "python",
   "nbconvert_exporter": "python",
   "pygments_lexer": "ipython3",
   "version": "3.13.6"
  }
 },
 "nbformat": 4,
 "nbformat_minor": 5
}
