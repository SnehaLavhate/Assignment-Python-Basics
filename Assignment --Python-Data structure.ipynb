{
 "cells": [
  {
   "cell_type": "markdown",
   "id": "83a90d01-0340-4502-bacf-3c8890c729f2",
   "metadata": {},
   "source": [
    "# Data Types and Structures Questions"
   ]
  },
  {
   "cell_type": "markdown",
   "id": "3ee65a3f-73c1-4549-9f66-d9bd83bfbe38",
   "metadata": {},
   "source": [
    "1. What are data structure and why they are important?\n",
    "   \n",
    "   * Data structure is a way of organizing or storing of data.\n",
    "   * It is easy to accesse and manipulate the data and organises the data logically.\n",
    "   * They are important as they store many forms of data in it.\n"
   ]
  },
  {
   "cell_type": "markdown",
   "id": "d2d203c9-c14d-4c24-8f57-c9d041ddcebd",
   "metadata": {},
   "source": [
    "2. Explain the difference between the mutable and immutable data types with examples.\n",
    "\n",
    "   * Mutable means changeable  ,e.g., list, Dictionary,set\n",
    "   * Immutable means unchangeable ; e.g., string , tuple\n",
    "   * Below are the examples for each:"
   ]
  },
  {
   "cell_type": "code",
   "execution_count": 2,
   "id": "a7ee18e1-cb0b-4b8e-9eda-da6708a989aa",
   "metadata": {},
   "outputs": [
    {
     "name": "stdout",
     "output_type": "stream",
     "text": [
      "['10rs', '200rs', '100rs', '500rs', '1000rs']\n"
     ]
    }
   ],
   "source": [
    "## Mutable data types\n",
    "#List\n",
    "Money = [\"10rs\",\"50rs\",\"100rs\",\"500rs\",\"1000rs\"] #orginal list\n",
    "Money[1] = \"200rs\"  #changes made in a list\n",
    "print(Money)"
   ]
  },
  {
   "cell_type": "code",
   "execution_count": 18,
   "id": "3cc2d8e4-1c08-439f-969d-ef7d44787852",
   "metadata": {},
   "outputs": [
    {
     "name": "stdout",
     "output_type": "stream",
     "text": [
      "{'x': 100, 'y': 50}\n"
     ]
    }
   ],
   "source": [
    "#Dictionary\n",
    "dict ={\"x\":10 , \"y\":50}\n",
    "dict[\"x\"] = 100 #chages in dixt using key \n",
    "print(dict)"
   ]
  },
  {
   "cell_type": "code",
   "execution_count": 25,
   "id": "f40d5e3d-e98a-4e71-b4f2-64419fa25939",
   "metadata": {},
   "outputs": [
    {
     "ename": "TypeError",
     "evalue": "'str' object does not support item assignment",
     "output_type": "error",
     "traceback": [
      "\u001b[31m---------------------------------------------------------------------------\u001b[39m",
      "\u001b[31mTypeError\u001b[39m                                 Traceback (most recent call last)",
      "\u001b[36mCell\u001b[39m\u001b[36m \u001b[39m\u001b[32mIn[25]\u001b[39m\u001b[32m, line 4\u001b[39m\n\u001b[32m      1\u001b[39m \u001b[38;5;66;03m## Immutable data types\u001b[39;00m\n\u001b[32m      2\u001b[39m \u001b[38;5;66;03m#string\u001b[39;00m\n\u001b[32m      3\u001b[39m \u001b[38;5;28mstr\u001b[39m = \u001b[33m\"\u001b[39m\u001b[33mMy name is Sneha\u001b[39m\u001b[33m\"\u001b[39m\n\u001b[32m----> \u001b[39m\u001b[32m4\u001b[39m \u001b[38;5;28;43mstr\u001b[39;49m\u001b[43m[\u001b[49m\u001b[43m-\u001b[49m\u001b[32;43m5\u001b[39;49m\u001b[43m:\u001b[49m\u001b[43m]\u001b[49m = \u001b[33m\"\u001b[39m\u001b[33mSneha Lavhate\u001b[39m\u001b[33m\"\u001b[39m \u001b[38;5;66;03m#shows an error as str are immutable\u001b[39;00m\n",
      "\u001b[31mTypeError\u001b[39m: 'str' object does not support item assignment"
     ]
    }
   ],
   "source": [
    "## Immutable data types\n",
    "#string\n",
    "str = \"My name is Sneha\"\n",
    "str[-5:] = \"Sneha Lavhate\" #shows an error as str are immutable"
   ]
  },
  {
   "cell_type": "code",
   "execution_count": 27,
   "id": "c8baa846-a031-4df8-870f-22c199cd50a5",
   "metadata": {},
   "outputs": [
    {
     "ename": "TypeError",
     "evalue": "'tuple' object does not support item assignment",
     "output_type": "error",
     "traceback": [
      "\u001b[31m---------------------------------------------------------------------------\u001b[39m",
      "\u001b[31mTypeError\u001b[39m                                 Traceback (most recent call last)",
      "\u001b[36mCell\u001b[39m\u001b[36m \u001b[39m\u001b[32mIn[27]\u001b[39m\u001b[32m, line 3\u001b[39m\n\u001b[32m      1\u001b[39m \u001b[38;5;66;03m#tuple\u001b[39;00m\n\u001b[32m      2\u001b[39m A = (\u001b[33m\"\u001b[39m\u001b[33mName\u001b[39m\u001b[33m\"\u001b[39m,\u001b[33m\"\u001b[39m\u001b[33mAddress\u001b[39m\u001b[33m\"\u001b[39m,\u001b[33m\"\u001b[39m\u001b[33mcolony\u001b[39m\u001b[33m\"\u001b[39m)\n\u001b[32m----> \u001b[39m\u001b[32m3\u001b[39m \u001b[43mA\u001b[49m\u001b[43m[\u001b[49m\u001b[32;43m3\u001b[39;49m\u001b[43m]\u001b[49m = \u001b[33m\"\u001b[39m\u001b[33mPhn no.\u001b[39m\u001b[33m\"\u001b[39m \u001b[38;5;66;03m#gives an error as tuple is immutable i.e., not changable contains fixed value \u001b[39;00m\n",
      "\u001b[31mTypeError\u001b[39m: 'tuple' object does not support item assignment"
     ]
    }
   ],
   "source": [
    "#tuple\n",
    "A = (\"Name\",\"Address\",\"colony\")\n",
    "A[3] = \"Phn no.\" #gives an error as tuple is immutable i.e., not changable contains fixed value "
   ]
  },
  {
   "cell_type": "markdown",
   "id": "4761b54e-3295-482c-89e1-534614d8182f",
   "metadata": {},
   "source": [
    "3. What are the main differences between lists and tuples in Python?\n",
    "\n",
    "   * Lists : Lists are mutable data types,i.e, they are changeable. They stores collection of any form of data whether it be   str,int,complex,float,bool,etc. They are denoted by square brackets [].\n",
    "   * Tuples : Tuples are immutable data types,i.e, they are unchangeable. They stores collection of data as fixed values they are unable to change once stored. They are denoted by parenthesis ()."
   ]
  },
  {
   "cell_type": "markdown",
   "id": "0561d6fb-25a3-48a8-aa21-8081e7bc1f9c",
   "metadata": {},
   "source": [
    "4. Describe how dictionaries stores data?\n",
    "\n",
    "   :- Dictionaries stores data in key:value form, where a key is the used to access the value stored . Key works as a variable in dictionary. Dict are denoted by curly brackets{}.\n",
    "\n",
    "    e.g,dict = {\"Name\" : \"Sneha\", \"age\" : 21, \"qualification\":\"graduate\"} "
   ]
  },
  {
   "cell_type": "markdown",
   "id": "4d111ea8-acaf-42f9-afe5-147ca3986dea",
   "metadata": {},
   "source": [
    "5. Why might you use a set instead of a list in a Python?\n",
    "\n",
    "   * List are mutable data type , they are unordered and changeable.\n",
    "   * Sets are also mutable but they are ordered and unique sequences, they do not repeat the element of the sequence\n",
    "   * Sets are preferred as they do not copy duplicate objects from sequence."
   ]
  },
  {
   "cell_type": "markdown",
   "id": "61edff4d-0d25-446b-b3b3-3c787f34a641",
   "metadata": {},
   "source": [
    "6. What is a string in Python, and how is it different from a list?\n",
    "\n",
    "    * String can store a character in quotes \"\". They are Immutable.\n",
    "    * Lists are sequence of elements enclosed in square brackets[]. They are Mutable."
   ]
  },
  {
   "cell_type": "markdown",
   "id": "293e69e7-4d00-47c1-81b3-00055b9f6427",
   "metadata": {},
   "source": [
    "7. How do tuples ensure data integrity in Python?\n",
    "\n",
    "   :- Tuples in Python ensure data integrity because once a data stored in tuple cannot be changed, the element in tuple cannot be added, removed or changed."
   ]
  },
  {
   "cell_type": "markdown",
   "id": "49a568e0-53ef-4365-869e-a23fe3156103",
   "metadata": {},
   "source": [
    "8. What is a hash table and how does it related to dictonaries in Python?\n",
    "\n",
    "   * Hash function converts a key(like a string and number) into an index for storing in a memory.\n",
    "   * It is a data structure that stores a data in an unordered collection of key-value pairs.\n",
    "   * It is related to Python dictionary as it gives fast access to values using keys , keys must be hasable."
   ]
  },
  {
   "cell_type": "markdown",
   "id": "8d355b88-32e1-424c-92fd-063d82492e58",
   "metadata": {},
   "source": [
    "9. Can lists contains different data types in Python?\n",
    "\n",
    "    :- Yes, list can contains different data types in Python. e.g, str, int, float, complex, bool, etc"
   ]
  },
  {
   "cell_type": "code",
   "execution_count": 4,
   "id": "fdbd58cc-0a04-4265-a9ff-b37cf62978a9",
   "metadata": {},
   "outputs": [
    {
     "data": {
      "text/plain": [
       "[1, 34.6, 'Sneha', (5+3j), 'true']"
      ]
     },
     "execution_count": 4,
     "metadata": {},
     "output_type": "execute_result"
    }
   ],
   "source": [
    "#e.g., of list\n",
    "list = [1, 34.6,\"Sneha\", 5+3j,\"true\"] #list contains different data types\n",
    "list"
   ]
  },
  {
   "cell_type": "markdown",
   "id": "b4f89e88-cf08-4bc1-921b-490c561743f3",
   "metadata": {},
   "source": [
    "10. Explain why strings are immutable in Python?\n",
    "\n",
    "    * Strings are characters stored in the form of data. They are immutable , meaning that they cannot be changed.\n",
    "    * Any operation that seems to be done creates a new string this is because Python is a memory efficient, it sometimes reuses the memory for identical string to save space.\n",
    "    * If strings are mutable , changing one string could affect the others using same memory."
   ]
  },
  {
   "cell_type": "markdown",
   "id": "d66f6bb9-277b-476d-9d63-259f2a2723d3",
   "metadata": {},
   "source": [
    "11. What advantages do dictonaries offer over lists for certain tasks?\n",
    "\n",
    "    * Dictionaries and lists both stores data, but they serve different purposes.\n",
    "    * Dictonaries are better:\n",
    "       - When you need to modify one value to another.\n",
    "       - When you want to store labeled data.\n",
    "       - When you want more precise and systematic data.\n",
    "       + e.g., counting items, Representing records , Storing configuration,etc\n",
    "\n",
    "    "
   ]
  },
  {
   "cell_type": "markdown",
   "id": "a02778eb-b3c7-4b00-abc9-9af8042916f2",
   "metadata": {},
   "source": [
    "12. Describe a scenario where using a tuple would be preferred over a list.\n",
    "\n",
    "    :- Tuples are immutable so it can stores data that we cannot change . If lists are used to store data of unordered elements but sometimes data is so sensitive that we cannot modify the data so in this case you have to use tuple."
   ]
  },
  {
   "cell_type": "markdown",
   "id": "cb29bb49-3364-498f-96e5-90aedd3a19d8",
   "metadata": {},
   "source": [
    "13. How do sets handle duplicate values in Python?\n",
    "\n",
    "    :- Sets are unique and ordered values stored in data in curly brackets{}. They do not gives duplicate values in output as they are unique data types."
   ]
  },
  {
   "cell_type": "markdown",
   "id": "3d1125e4-0099-4960-bb51-a9a47197f68b",
   "metadata": {},
   "source": [
    "14. How does \"in\" keyword works differently for lists and dictionaries?\n",
    "\n",
    "    :- In list \"in\" is used to know the element present in that particular list whereas in dictionary it used to check if a key is present in dictionary or not."
   ]
  },
  {
   "cell_type": "markdown",
   "id": "bea8cd63-942f-4bc0-9ebc-bd3ae22c5aa2",
   "metadata": {},
   "source": [
    "15. Can you modify the elements of a tuple? Explain why or why not?\n",
    "\n",
    "    * No, you cannot modify the element of a tuple.\n",
    "    * Tuple is an ordered and immutable data type which we cannot change neither modify. "
   ]
  },
  {
   "cell_type": "markdown",
   "id": "f4ec4701-a14c-41fd-bdb4-a1339c18330b",
   "metadata": {},
   "source": [
    "16. What is a nested dictionary, and give an example of its use cases?\n",
    "\n",
    "    :- Nested dictionary is a dictionary inside dictionary."
   ]
  },
  {
   "cell_type": "code",
   "execution_count": 10,
   "id": "012699b4-4070-42fc-9d33-c9ab2140d3bf",
   "metadata": {},
   "outputs": [
    {
     "data": {
      "text/plain": [
       "{'1': {'name': 'Sneha', 'age': 21},\n",
       " '2': {'name': 'Suhas', 'age': 23},\n",
       " '3': {'name': 'Priyanka', 'age': 23}}"
      ]
     },
     "execution_count": 10,
     "metadata": {},
     "output_type": "execute_result"
    }
   ],
   "source": [
    "#Nested dictionary\n",
    "d = {\n",
    "    \"1\" : {\"name\":\"Sneha\",\"age\":21},\n",
    "    \"2\" : {\"name\":\"Suhas\",\"age\":23},\n",
    "    \"3\" : {\"name\": \"Priyanka\",\"age\":23},\n",
    "}\n",
    "d"
   ]
  },
  {
   "cell_type": "markdown",
   "id": "2fca31f9-ef22-40d9-b774-80bcf6b2191d",
   "metadata": {},
   "source": [
    "17. Describe the time complexity of accessing elements in a dictionary.\n",
    "\n",
    "    :- Time complexity in a dictionary is help to write code faster and also able to access the data more faster."
   ]
  },
  {
   "cell_type": "markdown",
   "id": "9a01208a-eef9-4c0a-9635-d44931f71811",
   "metadata": {},
   "source": [
    "18. In what situations are lists preferred over dictionaries?\n",
    "\n",
    "    :- Lists are more preferrable than dictionaries as list can store an unordered and any form of data in it whereas dictionaries can store value in key:value form and the value is only accessable by using the key but in list the single element can be accessed by using index."
   ]
  },
  {
   "cell_type": "markdown",
   "id": "796dd49c-36ba-4cf0-a2ee-1c144801ec05",
   "metadata": {},
   "source": [
    "19. Why dictionaries considered unordered, and how does that affects data retrieval?\n",
    "\n",
    "    :- Dictionaries are unordered as they do not support indexing and slicing. Indexing in dictionaries are based on the key in which the value is stored.\n",
    "    The data retrieval in dictionary is still fast and unaffected."
   ]
  },
  {
   "cell_type": "markdown",
   "id": "edb6df45-52fa-4715-960c-8b1e7fbdb9d5",
   "metadata": {},
   "source": [
    "20. Explain the difference between the list and the dictionary in terms of data retrival.\n",
    "\n",
    "       * Use a list when :\n",
    "         - If Order matters.\n",
    "         -  If you want to access items by positions.\n",
    "       * Use a dictionay when :\n",
    "          - If you want to associate names with values.\n",
    "          - If you need fast lookup by a custom key."
   ]
  },
  {
   "cell_type": "markdown",
   "id": "b2747038-e917-49ba-9ba6-f86644d0a5d2",
   "metadata": {},
   "source": [
    "# Practical Questions"
   ]
  },
  {
   "cell_type": "code",
   "execution_count": 1,
   "id": "446a678c-f1c9-4539-83a7-1bdd553d42f5",
   "metadata": {},
   "outputs": [
    {
     "name": "stdout",
     "output_type": "stream",
     "text": [
      "Sneha\n"
     ]
    }
   ],
   "source": [
    "#1. Write a code to create a string with your name and print it.\n",
    "name = \"Sneha\"\n",
    "print(name)"
   ]
  },
  {
   "cell_type": "code",
   "execution_count": 38,
   "id": "29963af3-ff36-492a-ab8b-84901043e69b",
   "metadata": {},
   "outputs": [
    {
     "name": "stdout",
     "output_type": "stream",
     "text": [
      "The length of the word is: 11\n"
     ]
    }
   ],
   "source": [
    "#2. Write a code to find the length of a string \"Hello World\".\n",
    "word = \"Hello World\"\n",
    "length = len(word) #len is a function used to find the length \n",
    "print(\"The length of the word is:\",length)"
   ]
  },
  {
   "cell_type": "code",
   "execution_count": 37,
   "id": "653b7841-91f7-4cc5-b7c9-6029b272a252",
   "metadata": {},
   "outputs": [
    {
     "name": "stdout",
     "output_type": "stream",
     "text": [
      "The first three characters : Pyt\n"
     ]
    }
   ],
   "source": [
    "#3. Write a code to slice the first 3 characters from the string \"Python Programming\"\n",
    "x = \"Python Programming\"\n",
    "result=x[:3]\n",
    "print(\"The first three characters :\",result)"
   ]
  },
  {
   "cell_type": "code",
   "execution_count": 5,
   "id": "7fd4d991-0ed4-4316-8b0d-c5846dd28e23",
   "metadata": {},
   "outputs": [
    {
     "data": {
      "text/plain": [
       "'HELLO'"
      ]
     },
     "execution_count": 5,
     "metadata": {},
     "output_type": "execute_result"
    }
   ],
   "source": [
    "#4. Write a code to convert the string \"hello\" to uppercase.\n",
    "y = \"hello\"\n",
    "y.upper()"
   ]
  },
  {
   "cell_type": "code",
   "execution_count": 6,
   "id": "625982ed-047b-4a36-93a6-84cd8cca4e29",
   "metadata": {},
   "outputs": [
    {
     "data": {
      "text/plain": [
       "'I like orange'"
      ]
     },
     "execution_count": 6,
     "metadata": {},
     "output_type": "execute_result"
    }
   ],
   "source": [
    "#5. Write a code to replace the word \"apple\" with \"orange\" in the string \"I like apple\".\n",
    "sentence = \"I like apple\"\n",
    "sentence.replace(\"apple\",\"orange\")  #.replace is used to replace a string in a sentence"
   ]
  },
  {
   "cell_type": "code",
   "execution_count": 39,
   "id": "57d6cc6d-1110-4d11-9d89-c85dca098e43",
   "metadata": {},
   "outputs": [
    {
     "name": "stdout",
     "output_type": "stream",
     "text": [
      "The list is : [1, 2, 3, 4, 5]\n"
     ]
    }
   ],
   "source": [
    "#6. Write a code to create a list with numbers 1 to 5 and print it.\n",
    "x = [1,2,3,4,5]\n",
    "print(\"The list is :\",x)"
   ]
  },
  {
   "cell_type": "code",
   "execution_count": 40,
   "id": "b8612a8e-a7c5-498f-8c88-ef1a2a28a0db",
   "metadata": {},
   "outputs": [
    {
     "name": "stdout",
     "output_type": "stream",
     "text": [
      "The modified list : [1, 2, 3, 4, 10]\n"
     ]
    }
   ],
   "source": [
    "#7. Write a code to append a number 10 to the list [1,2,3,4].\n",
    "a = [1,2,3,4]\n",
    "a.append(10)  #.append is used to add value in the end of the list.\n",
    "print(\"The modified list :\",a)"
   ]
  },
  {
   "cell_type": "code",
   "execution_count": 20,
   "id": "9bb216cf-ec7e-4fba-a4f2-cbab34295771",
   "metadata": {},
   "outputs": [
    {
     "name": "stdout",
     "output_type": "stream",
     "text": [
      "[1, 2, 4, 5]\n"
     ]
    }
   ],
   "source": [
    "#8. Write a code to remove a number 3 from the list [1,2,3,4,5].\n",
    "num = [1,2,3,4,5]\n",
    "num.remove(3)  #.remove used to remove value from the list.\n",
    "print(num)"
   ]
  },
  {
   "cell_type": "code",
   "execution_count": 23,
   "id": "b62a7d3e-618b-46b0-a662-f461e804fe93",
   "metadata": {},
   "outputs": [
    {
     "data": {
      "text/plain": [
       "'b'"
      ]
     },
     "execution_count": 23,
     "metadata": {},
     "output_type": "execute_result"
    }
   ],
   "source": [
    "#9. Write a code to access the second element in the list [\"a\",\"b\",\"c\",\"d\"]\n",
    "list1 = [\"a\",\"b\",\"c\",\"d\"]\n",
    "list1[1]  #using index we can get any particular element from list"
   ]
  },
  {
   "cell_type": "code",
   "execution_count": 42,
   "id": "0c0a3e2e-9a9f-4c95-a69c-62c98db78482",
   "metadata": {},
   "outputs": [
    {
     "name": "stdout",
     "output_type": "stream",
     "text": [
      "The reversed list :  [50, 40, 30, 20, 10]\n"
     ]
    }
   ],
   "source": [
    "#10. Write a code to reverse a list [10,20,30,40,50]\n",
    "Values = [10,20,30,40,50]\n",
    "Values.reverse()   # to reverse the list - .reverse is used.\n",
    "print(\"The reversed list : \",Values)"
   ]
  },
  {
   "cell_type": "code",
   "execution_count": 43,
   "id": "9e44948b-7e1b-4263-90fa-70927f5a4cd6",
   "metadata": {},
   "outputs": [
    {
     "name": "stdout",
     "output_type": "stream",
     "text": [
      "Tuple = (100, 200, 300)\n"
     ]
    }
   ],
   "source": [
    "#11. Write a code to create a tuple with the elements 100,200,300 and print it.\n",
    "t = (100,200,300)\n",
    "print(\"Tuple =\",t)"
   ]
  },
  {
   "cell_type": "code",
   "execution_count": 31,
   "id": "d483c596-288c-4e3b-9fa5-dc3c5dfba663",
   "metadata": {},
   "outputs": [
    {
     "data": {
      "text/plain": [
       "('green', 'blue', 'yellow')"
      ]
     },
     "execution_count": 31,
     "metadata": {},
     "output_type": "execute_result"
    }
   ],
   "source": [
    "#12. Write a code to access second-to-last element of the tuple(\"red\",\"green\",\"blue\",\"yellow\")\n",
    "colours = (\"red\",\"green\",\"blue\",\"yellow\")\n",
    "colours[1: ]  #index can be used in tuple to access"
   ]
  },
  {
   "cell_type": "code",
   "execution_count": 47,
   "id": "c7da4166-4d28-4c6d-9060-17b7a424e54c",
   "metadata": {},
   "outputs": [
    {
     "name": "stdout",
     "output_type": "stream",
     "text": [
      "The minimum value is :  5\n"
     ]
    }
   ],
   "source": [
    "#13. Write a code to find a minimum number in the tuple (10,20,5,15)\n",
    "Num = (10,20,5,15)\n",
    "Min = min(Num)  #min is the minimum function used to find the minimum in the list\n",
    "print(\"The minimum value is : \",Min)"
   ]
  },
  {
   "cell_type": "code",
   "execution_count": 48,
   "id": "9f0189e3-0806-4e08-82db-e5f8260e7a48",
   "metadata": {},
   "outputs": [
    {
     "data": {
      "text/plain": [
       "1"
      ]
     },
     "execution_count": 48,
     "metadata": {},
     "output_type": "execute_result"
    }
   ],
   "source": [
    "#14. Write a code to find an index of the element \"cat\" in the tuple (\"dog\",\"cat\",\"rabbit\")\n",
    "A = (\"dog\",\"cat\",\"rabbit\")\n",
    "A.index(\"cat\")"
   ]
  },
  {
   "cell_type": "code",
   "execution_count": 3,
   "id": "eea1dade-7ec7-484c-96c7-46c2d2d07c8c",
   "metadata": {},
   "outputs": [],
   "source": [
    "#15. Write a code to create a tuple containg three different fruits and check if \"kiwi\" is in it.\n",
    "Fruits = (\"Orange\",\"Mango\",\"Dragonfruit\")"
   ]
  },
  {
   "cell_type": "code",
   "execution_count": 6,
   "id": "33056596-de86-4d75-8f06-0b18b500299c",
   "metadata": {},
   "outputs": [
    {
     "data": {
      "text/plain": [
       "False"
      ]
     },
     "execution_count": 6,
     "metadata": {},
     "output_type": "execute_result"
    }
   ],
   "source": [
    "\"kiwi\" in Fruits"
   ]
  },
  {
   "cell_type": "code",
   "execution_count": 49,
   "id": "df82751d-7cf6-4cda-85da-189c9029c1aa",
   "metadata": {},
   "outputs": [
    {
     "name": "stdout",
     "output_type": "stream",
     "text": [
      "The set is : {'b', 'a', 'c'}\n"
     ]
    }
   ],
   "source": [
    " #16. Write a code to create a set with the elements \"a\",b\",\"c\" and print it.\n",
    "s = {\"a\",\"b\",\"c\"}\n",
    "print(\"The set is :\",s)"
   ]
  },
  {
   "cell_type": "code",
   "execution_count": 12,
   "id": "f082775a-0915-4e2c-8753-aa18107ee58b",
   "metadata": {},
   "outputs": [
    {
     "name": "stdout",
     "output_type": "stream",
     "text": [
      "set()\n"
     ]
    }
   ],
   "source": [
    "#17. Write a code to clear all elements from the set {1,2,3,4,5}.\n",
    "num = {1,2,3,4,5}\n",
    "num.clear()\n",
    "print(num)"
   ]
  },
  {
   "cell_type": "code",
   "execution_count": 14,
   "id": "91194031-7bda-47a3-a6e7-066b51dc6fc6",
   "metadata": {},
   "outputs": [
    {
     "name": "stdout",
     "output_type": "stream",
     "text": [
      "{1, 2, 3, 5}\n"
     ]
    }
   ],
   "source": [
    "#18. Write a code to remove the element 4 from the set {1,2,3,4,5}\n",
    "my_set = {1,2,3,4,5}\n",
    "my_set.remove(4)\n",
    "print(my_set)"
   ]
  },
  {
   "cell_type": "code",
   "execution_count": 13,
   "id": "a921cfdf-353f-4d2c-b7ef-bfbc7dc98830",
   "metadata": {},
   "outputs": [
    {
     "name": "stdout",
     "output_type": "stream",
     "text": [
      "Merged set :  {1, 2, 3, 4}\n"
     ]
    }
   ],
   "source": [
    "#19. Write a code to find the union of two sets{1,2,3} and {3,4,5}\n",
    "set_1 = {1,2,3}\n",
    "set_2 = {2,3,4}\n",
    "new_set = set_1|set_2\n",
    "print(\"Merged set : \",new_set)"
   ]
  },
  {
   "cell_type": "code",
   "execution_count": 14,
   "id": "e299ec01-e168-4822-b349-7bf80dc56112",
   "metadata": {},
   "outputs": [
    {
     "name": "stdout",
     "output_type": "stream",
     "text": [
      "Intersected set : {2, 3}\n"
     ]
    }
   ],
   "source": [
    "#20. Write a code to find the intersection of two sets {1,2,3} and {2,3,4}\n",
    "set1 = {1,2,3}\n",
    "set2 = {2,3,4}\n",
    "set3 = set1 & set2\n",
    "print(\"Intersected set :\",set3)"
   ]
  },
  {
   "cell_type": "code",
   "execution_count": 21,
   "id": "0817f921-b60d-4065-b713-f30155abb918",
   "metadata": {},
   "outputs": [
    {
     "name": "stdout",
     "output_type": "stream",
     "text": [
      "{'name': 'Sneha', 'age': 21, 'city': 'Kolhapur'}\n"
     ]
    }
   ],
   "source": [
    "#21. Write a code to create a dictionary with the keys 'name','age',and 'city' and print it.\n",
    "info = {\"name\" : \"Sneha\" ,\"age\" : 21, \"city\" : \"Kolhapur\"}\n",
    "print(info)"
   ]
  },
  {
   "cell_type": "code",
   "execution_count": 17,
   "id": "ebb2f34b-f0f5-48f2-a935-734b55397ffc",
   "metadata": {},
   "outputs": [
    {
     "name": "stdout",
     "output_type": "stream",
     "text": [
      "The updated dict : {'name': 'John', 'age': 25, 'country': 'USA'}\n"
     ]
    }
   ],
   "source": [
    "#22. Write a code to add a new key-value pair \"country\":\"USA\" to the dictionary {\"name\":\"John\",\"age\":25}\n",
    "person_info = {\"name\":\"John\", \"age\":25}\n",
    "person_info[\"country\"] =\"USA\"\n",
    "print(\"The updated dict :\",person_info)"
   ]
  },
  {
   "cell_type": "code",
   "execution_count": 33,
   "id": "d88806af-0098-44ab-8ab1-d125922fff48",
   "metadata": {},
   "outputs": [
    {
     "data": {
      "text/plain": [
       "'Alice'"
      ]
     },
     "execution_count": 33,
     "metadata": {},
     "output_type": "execute_result"
    }
   ],
   "source": [
    "#23. Write a code to access the value associated with the key \"name\" in the dictionary {\"name\":\"Alice\",\"age\":25}\n",
    "Info = {\"name\" : \"Alice\",\"age\" : 25}\n",
    "Info[\"name\"]"
   ]
  },
  {
   "cell_type": "code",
   "execution_count": 36,
   "id": "bb6de1ca-db4c-4762-a7c4-844c9bb5c9f9",
   "metadata": {},
   "outputs": [
    {
     "name": "stdout",
     "output_type": "stream",
     "text": [
      "{'name': 'Bob', 'city': 'New York'}\n"
     ]
    }
   ],
   "source": [
    "#24. Write a code to remove the key \"age\" from the dictionary {\"name\":\"Bob\",\"age\":22,\"city\":\"New York\"}\n",
    "personal_info = {\"name\" : \"Bob\",\"age\":22, \"city\":\"New York\"}\n",
    "personal_info.pop(\"age\")\n",
    "print(personal_info)"
   ]
  },
  {
   "cell_type": "code",
   "execution_count": 37,
   "id": "ec225953-42ac-4bf5-906e-aff27080103e",
   "metadata": {},
   "outputs": [
    {
     "data": {
      "text/plain": [
       "True"
      ]
     },
     "execution_count": 37,
     "metadata": {},
     "output_type": "execute_result"
    }
   ],
   "source": [
    "#25. Write a code to check if the key 'city' exists in the dictionary {\"name\":\"Alice\",\"city\":\"Paris\"}.\n",
    "x = {\"name\":\"Alice\",\"city\":\"Paris\"}\n",
    "\"city\" in x"
   ]
  },
  {
   "cell_type": "code",
   "execution_count": 40,
   "id": "c741d727-5749-4b7b-99a0-4f7fc4059016",
   "metadata": {},
   "outputs": [
    {
     "name": "stdout",
     "output_type": "stream",
     "text": [
      "My list is : ['Sneha', 12, (3+4j), 56.7, True]\n",
      "Tuple is : ('Sneha', 12, (3+4j), 56.7, True)\n",
      "Dictionary is : {'name': 'Sneha', 'age': 21}\n"
     ]
    }
   ],
   "source": [
    "#26. Write a code to create a list, a tuple, and a dictionary, and print them all.\n",
    "lis = [\"Sneha\",12,3+4j,56.7,True]\n",
    "Tup = (\"Sneha\",12,3+4j,56.7,True)\n",
    "Dic = {\"name\":\"Sneha\",\"age\":21}\n",
    "print(\"My list is :\",lis)\n",
    "print(\"Tuple is :\",Tup)\n",
    "print(\"Dictionary is :\",Dic)"
   ]
  },
  {
   "cell_type": "code",
   "execution_count": 18,
   "id": "b1222ccb-76e4-4f8a-bb5b-320b24dd6be2",
   "metadata": {},
   "outputs": [
    {
     "name": "stdout",
     "output_type": "stream",
     "text": [
      "Sorted numbers : [17, 29, 62, 89, 98]\n"
     ]
    }
   ],
   "source": [
    "#27. Write a code to create a list of 5 random numbers between 1 and 100, sort it in ascending order, and print the result.(replaced).\n",
    "import random\n",
    "numbers = sorted(random.sample(range(1,101),5))\n",
    "print(\"Sorted numbers :\",numbers)"
   ]
  },
  {
   "cell_type": "code",
   "execution_count": 21,
   "id": "59478d71-ad05-4cce-b768-e66708da5367",
   "metadata": {},
   "outputs": [
    {
     "name": "stdout",
     "output_type": "stream",
     "text": [
      "The modified list : ['Sneha', 'college', 'Fresher', 'Graduate', 'Girl']\n"
     ]
    }
   ],
   "source": [
    "#28. Write a code to create a list with strings and print the element at the third index.\n",
    "Data = [\"Sneha\",\"college\",\"Fresher\",\"Girl\"]\n",
    "Data.insert(3,\"Graduate\")\n",
    "print(\"The modified list :\",Data)"
   ]
  },
  {
   "cell_type": "code",
   "execution_count": 26,
   "id": "158c1d48-d053-4793-9332-ab8f869d3582",
   "metadata": {},
   "outputs": [
    {
     "data": {
      "text/plain": [
       "{'Suhas': 88, 'Sneha': 90, 'Priyanka': 85, 'Shital': 78}"
      ]
     },
     "execution_count": 26,
     "metadata": {},
     "output_type": "execute_result"
    }
   ],
   "source": [
    "#29. Write a code to combine two dictionaries into one and print it.\n",
    "student = {\"Sneha\", \"Priyanka\",\"Suhas\",\"Shital\"}\n",
    "marks = {90,85,78,88}\n",
    "{student:marks for student,marks in zip(student,marks)}"
   ]
  },
  {
   "cell_type": "code",
   "execution_count": 34,
   "id": "a6c34755-8f6e-447b-9e99-8c9fc1377299",
   "metadata": {},
   "outputs": [
    {
     "name": "stdout",
     "output_type": "stream",
     "text": [
      "frozenset({'papaya', 'pineappple', 'apple'})\n"
     ]
    }
   ],
   "source": [
    "#30. Write a code to convert a list of string into a set.\n",
    "fruits = [\"apple\", \"pineappple\",\"papaya\"]\n",
    "fruits = frozenset(fruits)\n",
    "print(fruits)"
   ]
  },
  {
   "cell_type": "code",
   "execution_count": 36,
   "id": "bfe46ca6-d0b6-4f55-be03-54c69d276769",
   "metadata": {},
   "outputs": [
    {
     "data": {
      "text/plain": [
       "frozenset"
      ]
     },
     "execution_count": 36,
     "metadata": {},
     "output_type": "execute_result"
    }
   ],
   "source": [
    "type(fruits)  #type has been changed from list to sets"
   ]
  }
 ],
 "metadata": {
  "kernelspec": {
   "display_name": "Python 3 (ipykernel)",
   "language": "python",
   "name": "python3"
  },
  "language_info": {
   "codemirror_mode": {
    "name": "ipython",
    "version": 3
   },
   "file_extension": ".py",
   "mimetype": "text/x-python",
   "name": "python",
   "nbconvert_exporter": "python",
   "pygments_lexer": "ipython3",
   "version": "3.13.5"
  }
 },
 "nbformat": 4,
 "nbformat_minor": 5
}
